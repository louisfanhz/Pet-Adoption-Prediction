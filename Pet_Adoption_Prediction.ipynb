{
 "cells": [
  {
   "cell_type": "code",
   "execution_count": 1,
   "id": "e4e581e9",
   "metadata": {},
   "outputs": [],
   "source": [
    "import random \n",
    "import numpy as np\n",
    "import pandas as pd\n",
    "import os\n",
    "import gc\n",
    "import sys\n",
    "import json\n",
    "import time\n",
    "import matplotlib.pyplot as plt\n",
    "import seaborn as sns\n",
    "import numpy.linalg as LA\n",
    "np.random.seed(42)\n",
    "\n",
    "import base64"
   ]
  },
  {
   "cell_type": "markdown",
   "id": "e020ff19",
   "metadata": {},
   "source": [
    "# Data Preparation"
   ]
  },
  {
   "cell_type": "code",
   "execution_count": 2,
   "id": "88c867bc",
   "metadata": {},
   "outputs": [],
   "source": [
    "### load data\n",
    "train_df = pd.read_csv('train.csv')\n",
    "train_df = train_df.drop(['Name', 'RescuerID'], axis=1)\n",
    "\n",
    "# AdoptionSpeed - Categorical speed of adoption, range from 0 - 4\n",
    "# 4 -> No adoption after 100 days of being listed, otherwise adopted within 90 days after listing\n",
    "# convert adoption speed to adopted\n",
    "train_df['AdoptionSpeed'] = train_df['AdoptionSpeed'].apply(lambda x: 1 if x != 4 else 0)\n",
    "train_df = train_df.rename({'AdoptionSpeed': 'Adopted'}, axis=1)"
   ]
  },
  {
   "cell_type": "markdown",
   "id": "db5a79f7",
   "metadata": {},
   "source": [
    "### Sentiment Analysis Data"
   ]
  },
  {
   "cell_type": "code",
   "execution_count": 3,
   "id": "dd0ff471",
   "metadata": {},
   "outputs": [],
   "source": [
    "### import sentiment feature which contains sentiment score and magnitude ###\n",
    "sentiment_dict = {}\n",
    "for filename in os.listdir('./train_sentiment/'):\n",
    "    with open('./train_sentiment/' + filename, 'r') as f:\n",
    "        sentiment = json.load(f)\n",
    "    pet_id = filename.split('.')[0]\n",
    "    sentiment_dict[pet_id] = {}\n",
    "    sentiment_dict[pet_id]['magnitude'] = sentiment['documentSentiment']['magnitude']\n",
    "    sentiment_dict[pet_id]['score'] = sentiment['documentSentiment']['score']\n",
    "    sentiment_dict[pet_id]['language'] = sentiment['language']\n",
    "    \n",
    "# append language, magnitude and score to dataframe as new columns\n",
    "train_df['Language'] = train_df['PetID'].apply(lambda x: sentiment_dict[x]['language'] if x in sentiment_dict else 'none')\n",
    "train_df['SentiMagnitude'] = train_df['PetID'].apply(lambda x: sentiment_dict[x]['magnitude'] if x in sentiment_dict else 0)\n",
    "train_df['SentiScore'] = train_df['PetID'].apply(lambda x: sentiment_dict[x]['score'] if x in sentiment_dict else 0)\n",
    "\n",
    "# drop no longer needed columns\n",
    "train_df = train_df.drop(['Language', 'PetID'], axis=1)"
   ]
  },
  {
   "cell_type": "code",
   "execution_count": 4,
   "id": "5c51471d",
   "metadata": {},
   "outputs": [
    {
     "data": {
      "text/plain": [
       "Index(['Type', 'Age', 'Breed1', 'Breed2', 'Gender', 'Color1', 'Color2',\n",
       "       'Color3', 'MaturitySize', 'FurLength', 'Vaccinated', 'Dewormed',\n",
       "       'Sterilized', 'Health', 'Quantity', 'Fee', 'State', 'VideoAmt',\n",
       "       'Description', 'PhotoAmt', 'Adopted', 'SentiMagnitude', 'SentiScore'],\n",
       "      dtype='object')"
      ]
     },
     "execution_count": 4,
     "metadata": {},
     "output_type": "execute_result"
    }
   ],
   "source": [
    "# current features\n",
    "train_df.columns"
   ]
  },
  {
   "cell_type": "markdown",
   "id": "ab4d0c0e",
   "metadata": {},
   "source": [
    "# Feature Engineering"
   ]
  },
  {
   "cell_type": "markdown",
   "id": "086ed0be",
   "metadata": {},
   "source": [
    "### Feature Selection and Modification"
   ]
  },
  {
   "cell_type": "code",
   "execution_count": 5,
   "id": "ebd1f47e",
   "metadata": {},
   "outputs": [],
   "source": [
    "### categorical feature modification\n",
    "# modify the following columns so the labels are: 1=Yes, 2=Not Sure, 3=No\n",
    "# based on the intuition that 'yes' should be further away from 'No' but\n",
    "# closer to 'Not sure' -> increased accuracy by ~1-3% for different models\n",
    "modify_cols = ['Vaccinated', 'Dewormed', 'Sterilized']\n",
    "def modify_cond(x):\n",
    "    if x == 2:\n",
    "        return 3\n",
    "    elif x == 3:\n",
    "        return 2\n",
    "    else:\n",
    "        return 1\n",
    "    \n",
    "for col in modify_cols:\n",
    "    train_df[col] = train_df[col].apply(modify_cond)"
   ]
  },
  {
   "cell_type": "code",
   "execution_count": 6,
   "id": "bfa79fa4",
   "metadata": {},
   "outputs": [],
   "source": [
    "### Incorporate word count and average word length of the description as new features\n",
    "train_df['Description'] = train_df['Description'].fillna('')\n",
    "train_df['DescriptionLen'] = train_df['Description'].str.len()\n",
    "train_df['WordCount'] = train_df['Description'].apply(lambda x:len(x.split()))\n",
    "train_df['AvgWordLen'] = train_df['Description'].apply(lambda x: np.mean([len(i) for i in x.split()]) if x else 0)"
   ]
  },
  {
   "cell_type": "code",
   "execution_count": 7,
   "id": "cd9ad593",
   "metadata": {},
   "outputs": [],
   "source": [
    "### standardize numerical features -> rarely improves prediction\n",
    "#train_df['Age'] = (train_df['Age']-train_df['Age'].mean())/train_df['Age'].std()\n",
    "#train_df['Fee'] = (train_df['Fee']-train_df['Fee'].mean())/train_df['Fee'].std()\n",
    "#train_df['PhotoAmt'] = (train_df['PhotoAmt']-train_df['PhotoAmt'].mean())/train_df['PhotoAmt'].std()"
   ]
  },
  {
   "cell_type": "markdown",
   "id": "e57d2447",
   "metadata": {},
   "source": [
    "### Extract TF-IDF Score from Pets' Description"
   ]
  },
  {
   "cell_type": "code",
   "execution_count": 8,
   "id": "7518189d",
   "metadata": {},
   "outputs": [],
   "source": [
    "### compute TF-IDF score\n",
    "from nltk.tokenize import TweetTokenizer\n",
    "from sklearn.feature_extraction.text import TfidfVectorizer\n",
    "from sklearn.ensemble import RandomForestClassifier \n",
    "\n",
    "def get_description_score(description_col):\n",
    "    \"\"\"\n",
    "    Compute the TF-IDF score for each word in each description, sum and\n",
    "    divide by the number of words. Use the result as description score\n",
    "    \n",
    "    \"\"\"\n",
    "    tokenizer = TweetTokenizer()\n",
    "    vectorizer = TfidfVectorizer(ngram_range=(1,2), tokenizer=tokenizer.tokenize)\n",
    "\n",
    "    vectorizer.fit(description_col.values)\n",
    "    tfidf_mat = vectorizer.transform(description_col)\n",
    "    \n",
    "    tfidf_score_sum = tfidf_mat.sum(axis=1)\n",
    "    \n",
    "    score_col = np.zeros((len(description_col), 1))\n",
    "    for index,description in enumerate(description_col):\n",
    "        score_col[index] = tfidf_score_sum[index] / (len(tokenizer.tokenize(description)) + 1)\n",
    "    \n",
    "    return score_col"
   ]
  },
  {
   "cell_type": "code",
   "execution_count": 9,
   "id": "144c10dc",
   "metadata": {
    "scrolled": true
   },
   "outputs": [
    {
     "name": "stderr",
     "output_type": "stream",
     "text": [
      "/home/louisfanhz/.local/lib/python3.8/site-packages/sklearn/feature_extraction/text.py:528: UserWarning: The parameter 'token_pattern' will not be used since 'tokenizer' is not None'\n",
      "  warnings.warn(\n"
     ]
    }
   ],
   "source": [
    "### build the column for description score\n",
    "score_col = get_description_score(train_df['Description'])\n",
    "score_col = pd.DataFrame(score_col, columns=['DescriptionScore'])\n",
    "train_df = pd.concat([train_df, score_col], axis=1)\n",
    "train_df = train_df.drop(['Description'], axis=1)"
   ]
  },
  {
   "cell_type": "code",
   "execution_count": 10,
   "id": "ec0cb44d",
   "metadata": {},
   "outputs": [],
   "source": [
    "# make a copy for later use\n",
    "train_df_no_encoding = train_df.copy()"
   ]
  },
  {
   "cell_type": "markdown",
   "id": "36c36c33",
   "metadata": {},
   "source": [
    "### Encoding"
   ]
  },
  {
   "cell_type": "code",
   "execution_count": 14,
   "id": "09000c97",
   "metadata": {},
   "outputs": [],
   "source": [
    "from sklearn.preprocessing import OneHotEncoder"
   ]
  },
  {
   "cell_type": "code",
   "execution_count": 15,
   "id": "65d7b76e",
   "metadata": {},
   "outputs": [],
   "source": [
    "### one-hot encodes color labels ###\n",
    "color_labels = pd.read_csv('ColorLabels.csv')\n",
    "\n",
    "# add a row to color_labels denoting color 0 means none\n",
    "na_row = pd.DataFrame({'ColorID':0, 'ColorName':'None'}, index=[0])\n",
    "color_labels = pd.concat([na_row, color_labels]).reset_index(drop=True)\n",
    "\n",
    "# replace colorID with labels\n",
    "color_cols = ['Color1', 'Color2', 'Color3']\n",
    "train_df[color_cols] = train_df[color_cols].replace(color_labels['ColorID'].values, color_labels['ColorName'].values)\n",
    "\n",
    "# one-hot encoding\n",
    "onehot_enc = OneHotEncoder()\n",
    "onehot_enc = onehot_enc.fit(train_df[color_cols])\n",
    "onehot_color_feature_names = onehot_enc.get_feature_names_out(color_cols)\n",
    "onehot_output = pd.DataFrame(onehot_enc.transform(train_df[color_cols]).toarray(), \\\n",
    "                             columns=onehot_color_feature_names)\n",
    "\n",
    "train_df = pd.concat([train_df.drop(color_cols, axis=1), onehot_output], axis=1)"
   ]
  },
  {
   "cell_type": "code",
   "execution_count": 16,
   "id": "c2f85867",
   "metadata": {},
   "outputs": [],
   "source": [
    "### one-hot encodes breed labels ###\n",
    "breed_labels = pd.read_csv('BreedLabels.csv')\n",
    "\n",
    "# add a row to breed_labels denoting breed 0 means none\n",
    "na_row = pd.DataFrame({'BreedID':0, 'BreedName':'None'}, index=[0])\n",
    "breed_labels = pd.concat([na_row, breed_labels]).reset_index(drop=True)\n",
    "\n",
    "breed_cols = ['Breed1', 'Breed2']\n",
    "train_df[breed_cols] = train_df[breed_cols].replace(breed_labels['BreedID'].values, breed_labels['BreedName'].values)\n",
    "\n",
    "# one-hot encoding\n",
    "onehot_enc = OneHotEncoder()\n",
    "onehot_enc = onehot_enc.fit(train_df[breed_cols])\n",
    "onehot_breed_feature_names = onehot_enc.get_feature_names_out(breed_cols)\n",
    "onehot_output = pd.DataFrame(onehot_enc.transform(train_df[breed_cols]).toarray(), \\\n",
    "                             columns=onehot_breed_feature_names)\n",
    "\n",
    "train_df = pd.concat([train_df.drop(breed_cols, axis=1), onehot_output], axis=1)"
   ]
  },
  {
   "cell_type": "code",
   "execution_count": 17,
   "id": "67bb7d0c",
   "metadata": {},
   "outputs": [],
   "source": [
    "### one-hot encodes state labels ###\n",
    "state_labels = pd.read_csv('StateLabels.csv')\n",
    "\n",
    "state_cols = ['State']\n",
    "train_df[state_cols] = train_df[state_cols].replace(state_labels['StateID'].values, state_labels['StateName'].values)\n",
    "\n",
    "# one-hot encoding\n",
    "onehot_enc = OneHotEncoder()\n",
    "onehot_enc = onehot_enc.fit(train_df[state_cols])\n",
    "onehot_state_feature_names = onehot_enc.get_feature_names_out(state_cols)\n",
    "onehot_output = pd.DataFrame(onehot_enc.transform(train_df[state_cols]).toarray(), \\\n",
    "                             columns=onehot_state_feature_names)\n",
    "\n",
    "train_df = pd.concat([train_df.drop(state_cols, axis=1), onehot_output], axis=1)"
   ]
  },
  {
   "cell_type": "markdown",
   "id": "f25a4f6e",
   "metadata": {},
   "source": [
    "### Dimensionality Reduction"
   ]
  },
  {
   "cell_type": "code",
   "execution_count": 18,
   "id": "78c4c2eb",
   "metadata": {},
   "outputs": [],
   "source": [
    "### use PCA to reduce dimension\n",
    "from sklearn.decomposition import PCA\n",
    "from sklearn.preprocessing import scale\n",
    "\n",
    "columns_to_reduce = np.concatenate((onehot_color_feature_names,\n",
    "                                    onehot_breed_feature_names,\n",
    "                                    onehot_state_feature_names), axis=None)\n",
    "\n",
    "pca = PCA(n_components = columns_to_reduce.shape[0])\n",
    "pca.fit(train_df[columns_to_reduce])\n",
    "\n",
    "# cumulative sum of variance explained with [n] features\n",
    "var = np.cumsum(np.round(pca.explained_variance_ratio_, decimals=3) * 100)\n",
    "\n",
    "# get the number of components enough to explain 90% of the data\n",
    "num_components_90 = np.sum(var <= 90)\n",
    "\n",
    "# get reduced columns\n",
    "columns_reduced = pca.transform(train_df[columns_to_reduce])[:, :num_components_90]\n",
    "\n",
    "# modify train_df\n",
    "pc_names = ['pc_'+str(i+1) for i in range(columns_reduced.shape[1])]\n",
    "train_df = pd.concat([train_df.drop(columns_to_reduce, axis=1),\n",
    "                      pd.DataFrame(columns_reduced, columns=pc_names)], axis=1)"
   ]
  },
  {
   "cell_type": "code",
   "execution_count": 19,
   "id": "f916d0bf",
   "metadata": {},
   "outputs": [
    {
     "data": {
      "text/plain": [
       "Index(['Type', 'Age', 'Gender', 'MaturitySize', 'FurLength', 'Vaccinated',\n",
       "       'Dewormed', 'Sterilized', 'Health', 'Quantity', 'Fee', 'VideoAmt',\n",
       "       'PhotoAmt', 'Adopted', 'SentiMagnitude', 'SentiScore', 'DescriptionLen',\n",
       "       'WordCount', 'AvgWordLen', 'DescriptionScore', 'pc_1', 'pc_2', 'pc_3',\n",
       "       'pc_4', 'pc_5', 'pc_6', 'pc_7', 'pc_8', 'pc_9', 'pc_10', 'pc_11',\n",
       "       'pc_12', 'pc_13', 'pc_14', 'pc_15', 'pc_16', 'pc_17', 'pc_18', 'pc_19',\n",
       "       'pc_20', 'pc_21', 'pc_22', 'pc_23', 'pc_24', 'pc_25', 'pc_26', 'pc_27',\n",
       "       'pc_28'],\n",
       "      dtype='object')"
      ]
     },
     "execution_count": 19,
     "metadata": {},
     "output_type": "execute_result"
    }
   ],
   "source": [
    "train_df.columns"
   ]
  },
  {
   "cell_type": "markdown",
   "id": "770f2ff4",
   "metadata": {},
   "source": [
    "# Model Training"
   ]
  },
  {
   "cell_type": "code",
   "execution_count": 20,
   "id": "32fc1901",
   "metadata": {},
   "outputs": [],
   "source": [
    "from sklearn.model_selection import train_test_split\n",
    "from sklearn.model_selection import StratifiedKFold\n",
    "from sklearn.metrics import accuracy_score\n",
    "import sklearn.metrics as metrics\n",
    "\n",
    "### global variable to keep info for plotting\n",
    "model_result = {}"
   ]
  },
  {
   "cell_type": "markdown",
   "id": "d5a541fd",
   "metadata": {},
   "source": [
    "### Feature Importance using Gradient Boosting (lgb supports categorical feature encoding)"
   ]
  },
  {
   "cell_type": "code",
   "execution_count": 21,
   "id": "d9d58f82",
   "metadata": {},
   "outputs": [],
   "source": [
    "### Gradient boosting decision tree Using LightGMB library. Cross-validated\n",
    "### for plotting feature importance\n",
    "### check https://lightgbm.readthedocs.io/en/latest/Advanced-Topics.html\n",
    "### specifically the section 'categorical feature support'\n",
    "import lightgbm as lgb\n",
    "\n",
    "def train_model(X, y, params, folds, categorical_cols, plot_feature_importance=False, averaging='usual'):\n",
    "    result_dict = {}\n",
    "    scores = []\n",
    "    feature_importance = pd.DataFrame()\n",
    "    \n",
    "    # train on training set and test on validation set\n",
    "    for fold_n, (train_index, valid_index) in enumerate(folds.split(X, y)):\n",
    "        gc.collect()\n",
    "        print('Fold', fold_n + 1, 'started at', time.ctime())\n",
    "        X_train, X_valid = X.iloc[train_index], X.iloc[valid_index]\n",
    "        y_train, y_valid = y.iloc[train_index], y.iloc[valid_index]\n",
    "        \n",
    "        train_data = lgb.Dataset(X_train, label=y_train, categorical_feature=categorical_cols)\n",
    "        valid_data = lgb.Dataset(X_valid, label=y_valid, categorical_feature=categorical_cols)\n",
    "\n",
    "        model = lgb.train(params,\n",
    "                          train_data,\n",
    "                          num_boost_round=20000,\n",
    "                          valid_sets=[train_data, valid_data],\n",
    "                          categorical_feature=categorical_cols,\n",
    "                          callbacks=[lgb.early_stopping(200), lgb.log_evaluation(500)])\n",
    "\n",
    "        del train_data, valid_data\n",
    "\n",
    "        y_pred_valid = model.predict(X_valid, num_iteration=model.best_iteration)\n",
    "        y_pred_valid = y_pred_valid.round(decimals=0).astype(int)\n",
    "        del X_valid\n",
    "        gc.collect()\n",
    "\n",
    "        score = accuracy_score(y_valid, y_pred_valid)\n",
    "        scores.append(score)\n",
    "        print('Fold acc:', score)\n",
    "        print('')\n",
    "\n",
    "        # feature importance\n",
    "        fold_importance = pd.DataFrame()\n",
    "        fold_importance[\"feature\"] = X.columns\n",
    "        fold_importance[\"importance\"] = model.feature_importance()\n",
    "        fold_importance[\"fold\"] = fold_n + 1\n",
    "        feature_importance = pd.concat([feature_importance, fold_importance], axis=0)\n",
    "    \n",
    "    print('CV mean score: {0:.4f}, std: {1:.4f}.'.format(np.mean(scores), np.std(scores)))\n",
    "    \n",
    "    if plot_feature_importance:\n",
    "        feature_importance[\"importance\"] /= folds.n_splits\n",
    "        cols = feature_importance[[\"feature\", \"importance\"]].groupby(\"feature\").mean().sort_values(\n",
    "            by=\"importance\", ascending=False)[:50].index\n",
    "\n",
    "        best_features = feature_importance.loc[feature_importance.feature.isin(cols)]\n",
    "\n",
    "        plt.figure(figsize=(16, 12));\n",
    "        sns.barplot(x=\"importance\", y=\"feature\", data=best_features.sort_values(by=\"importance\", ascending=False));\n",
    "        plt.title('LGB Features (avg over folds)');\n",
    "\n",
    "        result_dict['feature_importance'] = feature_importance\n",
    "                \n",
    "    return result_dict"
   ]
  },
  {
   "cell_type": "code",
   "execution_count": 22,
   "id": "658a0ecd",
   "metadata": {},
   "outputs": [
    {
     "name": "stdout",
     "output_type": "stream",
     "text": [
      "Fold 1 started at Tue Dec 13 21:55:49 2022\n",
      "[LightGBM] [Warning] Met categorical feature which contains sparse values. Consider renumbering to consecutive integers started from zero\n",
      "Training until validation scores don't improve for 200 rounds\n"
     ]
    },
    {
     "name": "stderr",
     "output_type": "stream",
     "text": [
      "/home/louisfanhz/.local/lib/python3.8/site-packages/lightgbm/basic.py:1780: UserWarning: Overriding the parameters from Reference Dataset.\n",
      "  _log_warning('Overriding the parameters from Reference Dataset.')\n",
      "/home/louisfanhz/.local/lib/python3.8/site-packages/lightgbm/basic.py:1513: UserWarning: categorical_column in param dict is overridden.\n",
      "  _log_warning(f'{cat_alias} in param dict is overridden.')\n"
     ]
    },
    {
     "name": "stdout",
     "output_type": "stream",
     "text": [
      "[500]\ttraining's binary_logloss: 0.14726\tvalid_1's binary_logloss: 0.48304\n",
      "Early stopping, best iteration is:\n",
      "[319]\ttraining's binary_logloss: 0.230781\tvalid_1's binary_logloss: 0.477959\n",
      "Fold acc: 0.7675891963987996\n",
      "\n",
      "Fold 2 started at Tue Dec 13 21:55:55 2022\n",
      "[LightGBM] [Warning] Met categorical feature which contains sparse values. Consider renumbering to consecutive integers started from zero\n",
      "Training until validation scores don't improve for 200 rounds\n"
     ]
    },
    {
     "name": "stderr",
     "output_type": "stream",
     "text": [
      "/home/louisfanhz/.local/lib/python3.8/site-packages/lightgbm/basic.py:1780: UserWarning: Overriding the parameters from Reference Dataset.\n",
      "  _log_warning('Overriding the parameters from Reference Dataset.')\n",
      "/home/louisfanhz/.local/lib/python3.8/site-packages/lightgbm/basic.py:1513: UserWarning: categorical_column in param dict is overridden.\n",
      "  _log_warning(f'{cat_alias} in param dict is overridden.')\n"
     ]
    },
    {
     "name": "stdout",
     "output_type": "stream",
     "text": [
      "[500]\ttraining's binary_logloss: 0.147261\tvalid_1's binary_logloss: 0.48757\n",
      "Early stopping, best iteration is:\n",
      "[353]\ttraining's binary_logloss: 0.21138\tvalid_1's binary_logloss: 0.48356\n",
      "Fold acc: 0.7769256418806268\n",
      "\n",
      "Fold 3 started at Tue Dec 13 21:56:01 2022\n",
      "[LightGBM] [Warning] Met categorical feature which contains sparse values. Consider renumbering to consecutive integers started from zero\n",
      "Training until validation scores don't improve for 200 rounds\n"
     ]
    },
    {
     "name": "stderr",
     "output_type": "stream",
     "text": [
      "/home/louisfanhz/.local/lib/python3.8/site-packages/lightgbm/basic.py:1780: UserWarning: Overriding the parameters from Reference Dataset.\n",
      "  _log_warning('Overriding the parameters from Reference Dataset.')\n",
      "/home/louisfanhz/.local/lib/python3.8/site-packages/lightgbm/basic.py:1513: UserWarning: categorical_column in param dict is overridden.\n",
      "  _log_warning(f'{cat_alias} in param dict is overridden.')\n"
     ]
    },
    {
     "name": "stdout",
     "output_type": "stream",
     "text": [
      "[500]\ttraining's binary_logloss: 0.148125\tvalid_1's binary_logloss: 0.475935\n",
      "Early stopping, best iteration is:\n",
      "[352]\ttraining's binary_logloss: 0.213139\tvalid_1's binary_logloss: 0.472695\n",
      "Fold acc: 0.7712570856952318\n",
      "\n",
      "Fold 4 started at Tue Dec 13 21:56:07 2022\n",
      "[LightGBM] [Warning] Met categorical feature which contains sparse values. Consider renumbering to consecutive integers started from zero\n",
      "Training until validation scores don't improve for 200 rounds\n"
     ]
    },
    {
     "name": "stderr",
     "output_type": "stream",
     "text": [
      "/home/louisfanhz/.local/lib/python3.8/site-packages/lightgbm/basic.py:1780: UserWarning: Overriding the parameters from Reference Dataset.\n",
      "  _log_warning('Overriding the parameters from Reference Dataset.')\n",
      "/home/louisfanhz/.local/lib/python3.8/site-packages/lightgbm/basic.py:1513: UserWarning: categorical_column in param dict is overridden.\n",
      "  _log_warning(f'{cat_alias} in param dict is overridden.')\n"
     ]
    },
    {
     "name": "stdout",
     "output_type": "stream",
     "text": [
      "[500]\ttraining's binary_logloss: 0.146909\tvalid_1's binary_logloss: 0.478958\n",
      "Early stopping, best iteration is:\n",
      "[357]\ttraining's binary_logloss: 0.209002\tvalid_1's binary_logloss: 0.47452\n",
      "Fold acc: 0.7705136757838559\n",
      "\n",
      "Fold 5 started at Tue Dec 13 21:56:11 2022\n",
      "[LightGBM] [Warning] Met categorical feature which contains sparse values. Consider renumbering to consecutive integers started from zero\n",
      "Training until validation scores don't improve for 200 rounds\n"
     ]
    },
    {
     "name": "stderr",
     "output_type": "stream",
     "text": [
      "/home/louisfanhz/.local/lib/python3.8/site-packages/lightgbm/basic.py:1780: UserWarning: Overriding the parameters from Reference Dataset.\n",
      "  _log_warning('Overriding the parameters from Reference Dataset.')\n",
      "/home/louisfanhz/.local/lib/python3.8/site-packages/lightgbm/basic.py:1513: UserWarning: categorical_column in param dict is overridden.\n",
      "  _log_warning(f'{cat_alias} in param dict is overridden.')\n"
     ]
    },
    {
     "name": "stdout",
     "output_type": "stream",
     "text": [
      "[500]\ttraining's binary_logloss: 0.146\tvalid_1's binary_logloss: 0.493119\n",
      "Early stopping, best iteration is:\n",
      "[348]\ttraining's binary_logloss: 0.213146\tvalid_1's binary_logloss: 0.48784\n",
      "Fold acc: 0.7655103402268179\n",
      "\n",
      "CV mean score: 0.7704, std: 0.0039.\n"
     ]
    },
    {
     "data": {
      "image/png": "[encoded data removed]",
      "text/plain": [
       "<Figure size 1600x1200 with 1 Axes>"
      ]
     },
     "metadata": {},
     "output_type": "display_data"
    }
   ],
   "source": [
    "params = {'num_leaves': 512,\n",
    "         'objective': 'binary',\n",
    "         'metric': 'binary_logloss',\n",
    "         'max_depth': -1,\n",
    "         'learning_rate': 0.01,\n",
    "         \"boosting\": \"gbdt\",\n",
    "         \"feature_fraction\": 0.9,\n",
    "         \"bagging_freq\": 3,\n",
    "         \"bagging_fraction\": 0.9,\n",
    "         \"bagging_seed\": 11,\n",
    "         #\"lambda_l1\": 0.1,\n",
    "         #\"lambda_l2\": 0.1,\n",
    "         \"random_state\": 42,\n",
    "         \"verbosity\": -1}\n",
    "\n",
    "categorical_cols = ['Type', 'Breed1', 'Breed2', 'Gender', 'Color1', 'Color2',\n",
    "                    'Color3', 'MaturitySize', 'FurLength', 'Vaccinated', 'Dewormed',\n",
    "                    'Sterilized', 'Health', 'State']\n",
    "\n",
    "folds = StratifiedKFold(n_splits=5, shuffle=True, random_state=15)\n",
    "\n",
    "result_dict_lgb = train_model(X=train_df_no_encoding.drop(['Adopted'], axis=1),\n",
    "                              y=train_df_no_encoding['Adopted'], \n",
    "                              params=params,\n",
    "                              folds=folds,\n",
    "                              categorical_cols=categorical_cols,\n",
    "                              plot_feature_importance=True)"
   ]
  },
  {
   "cell_type": "markdown",
   "id": "35091cbc",
   "metadata": {},
   "source": [
    "### Other Models Learning"
   ]
  },
  {
   "cell_type": "code",
   "execution_count": 23,
   "id": "050c9d6a",
   "metadata": {},
   "outputs": [],
   "source": [
    "### prepare training and testing dataset\n",
    "X = train_df.drop(['Adopted'], axis=1)\n",
    "y = train_df['Adopted']\n",
    "X_no_encode = train_df_no_encoding.drop(['Adopted'], axis=1)\n",
    "y_no_encode = train_df_no_encoding['Adopted']\n",
    "\n",
    "X_train, X_test, y_train, y_test = train_test_split(X, y, test_size=0.3)\n",
    "X_train_no_encode, X_test_no_encode, y_train_no_encode, y_test_no_encode = \\\n",
    "                            train_test_split(X_no_encode, y_no_encode, test_size=0.3)"
   ]
  },
  {
   "cell_type": "markdown",
   "id": "59495199",
   "metadata": {},
   "source": [
    "#### Helper Function"
   ]
  },
  {
   "cell_type": "code",
   "execution_count": 24,
   "id": "41720db3",
   "metadata": {},
   "outputs": [],
   "source": [
    "def train(models, X_train, y_train, X_test, y_test):\n",
    "    \"\"\"\n",
    "    Trains several models and returns the test accuracy for each of them\n",
    "    Args:\n",
    "        models: list of model objects\n",
    "    Returns:\n",
    "        score (float): list of accuracies of the different fitted models on test set\n",
    "    \"\"\"\n",
    "    train_accuracies = []\n",
    "    test_accuracies = []\n",
    "    pred_prob_list = []\n",
    "    train_time_list = []\n",
    "    for model in models:\n",
    "        # fit the data and record time\n",
    "        start_time = time.time()\n",
    "        model.fit(X_train, y_train)\n",
    "        train_time_list.append(time.time() - start_time)\n",
    "        \n",
    "        # record result\n",
    "        y_train_pred = model.predict(X_train)\n",
    "        y_test_pred = model.predict(X_test)\n",
    "        pred_prob = model.predict_proba(X_test)\n",
    "        train_accuracies.append(accuracy_score(y_train, y_train_pred))\n",
    "        test_accuracies.append(accuracy_score(y_test, y_test_pred))\n",
    "        pred_prob_list.append(pred_prob)\n",
    "\n",
    "    return train_accuracies, test_accuracies, pred_prob_list, train_time_list"
   ]
  },
  {
   "cell_type": "code",
   "execution_count": 25,
   "id": "7ac21faf",
   "metadata": {},
   "outputs": [],
   "source": [
    "def plot_roc_curve(y_test, model_result):\n",
    "    \"\"\"\n",
    "    plot roc curve given list of labels and prediction probability\n",
    "    \n",
    "    \"\"\"\n",
    "    for model in model_result:\n",
    "        fpr, tpr, threshold = metrics.roc_curve(y_test, model_result[model]['predict_proba'][:, 1])\n",
    "        roc_auc = metrics.auc(fpr, tpr)\n",
    "\n",
    "        plt.plot(fpr, tpr, label = model + ' (AUC = %0.2f)' % roc_auc)\n",
    "        plt.legend(loc='lower right')\n",
    "    \n",
    "    plt.plot([0, 1], [0, 1],'r--')\n",
    "    plt.xlim([0, 1])\n",
    "    plt.ylim([0, 1])\n",
    "    #plt.title('Receiver Operating Characteristic')\n",
    "    plt.ylabel('True Positive Rate')\n",
    "    plt.xlabel('False Positive Rate')\n",
    "    plt.show()"
   ]
  },
  {
   "cell_type": "markdown",
   "id": "3adad2a8",
   "metadata": {},
   "source": [
    "#### Logistic Regression (baseline)"
   ]
  },
  {
   "cell_type": "code",
   "execution_count": 26,
   "id": "768f918e",
   "metadata": {},
   "outputs": [],
   "source": [
    "from sklearn.linear_model import LogisticRegression\n",
    "\n",
    "lr_train_acc, lr_test_acc, lr_pred_prob, lr_train_time_list = \\\n",
    "            train([LogisticRegression(random_state=0, max_iter=3000)], X_train, y_train, X_test, y_test)\n",
    "\n",
    "model_result['LogisticRegression'] = {'train_score': max(lr_train_acc),\n",
    "                                      'test_score': max(lr_test_acc),\n",
    "                                      'predict_proba': lr_pred_prob[np.argmax(lr_test_acc)],\n",
    "                                      'train_time': lr_train_time_list[np.argmax(lr_test_acc)]}"
   ]
  },
  {
   "cell_type": "code",
   "execution_count": 27,
   "id": "c2108e4e",
   "metadata": {},
   "outputs": [
    {
     "name": "stdout",
     "output_type": "stream",
     "text": [
      "train score:  0.7389232968080038\n",
      "test score:  0.7385504668741663\n"
     ]
    }
   ],
   "source": [
    "print(\"train score: \", model_result['LogisticRegression']['train_score'])\n",
    "print(\"test score: \", model_result['LogisticRegression']['test_score'])"
   ]
  },
  {
   "cell_type": "markdown",
   "id": "eee0ba33",
   "metadata": {},
   "source": [
    "#### Decision Tree"
   ]
  },
  {
   "cell_type": "code",
   "execution_count": 28,
   "id": "e829bc72",
   "metadata": {},
   "outputs": [],
   "source": [
    "from sklearn.tree import DecisionTreeClassifier\n",
    "\n",
    "def modelDecisionTree():\n",
    "    \"\"\"\n",
    "    Creates model objects for the DecisionTree.\n",
    "\n",
    "    \"\"\"\n",
    "    random_state = 20\n",
    "    criterions = ['gini', 'entropy', 'log_loss']\n",
    "    splitters = ['best', 'random']\n",
    "    obj_dt = []\n",
    "\n",
    "    for criterion in criterions:\n",
    "        for splitter in splitters:\n",
    "            dt_clf = DecisionTreeClassifier(criterion=criterion, \n",
    "                                            splitter=splitter,\n",
    "                                            random_state=random_state)\n",
    "            obj_dt.append(dt_clf)\n",
    "\n",
    "    return obj_dt"
   ]
  },
  {
   "cell_type": "code",
   "execution_count": 29,
   "id": "5ec3cbac",
   "metadata": {},
   "outputs": [],
   "source": [
    "DTmodels = modelDecisionTree()\n",
    "dt_train_acc, dt_test_acc, dt_pred_prob, dt_train_time_list = train(DTmodels, X_train, y_train, X_test, y_test)\n",
    "\n",
    "model_result['DecisionTree'] = {'train_score': max(dt_train_acc),\n",
    "                                'test_score': max(dt_test_acc),\n",
    "                                'predict_proba': dt_pred_prob[np.argmax(dt_test_acc)],\n",
    "                                'train_time': dt_train_time_list[np.argmax(dt_test_acc)]}"
   ]
  },
  {
   "cell_type": "code",
   "execution_count": 30,
   "id": "785aa92e",
   "metadata": {},
   "outputs": [
    {
     "name": "stdout",
     "output_type": "stream",
     "text": [
      "train score:  0.9999047165316818\n",
      "test score:  0.6805246776345042\n"
     ]
    }
   ],
   "source": [
    "print(\"train score: \", model_result['DecisionTree']['train_score'])\n",
    "print(\"test score: \", model_result['DecisionTree']['test_score'])"
   ]
  },
  {
   "cell_type": "markdown",
   "id": "101dcf3c",
   "metadata": {},
   "source": [
    "#### Random Forest"
   ]
  },
  {
   "cell_type": "code",
   "execution_count": 31,
   "id": "99b691fd",
   "metadata": {},
   "outputs": [],
   "source": [
    "from sklearn.ensemble import RandomForestClassifier\n",
    "\n",
    "def modelRandomForest(num_estimators, max_depth):\n",
    "    \"\"\"\n",
    "    Creates model objects for the RandomForest.\n",
    "\n",
    "    \"\"\"\n",
    "    random_state = 20\n",
    "    obj_rf = []\n",
    "\n",
    "    for n_estimators in num_estimators:\n",
    "        for depth in max_depth:\n",
    "            rf_clf = RandomForestClassifier(n_estimators=n_estimators, \n",
    "                                            criterion='log_loss', \n",
    "                                            max_depth=depth,\n",
    "                                            random_state=random_state)\n",
    "            obj_rf.append(rf_clf)\n",
    "\n",
    "    return obj_rf"
   ]
  },
  {
   "cell_type": "code",
   "execution_count": 32,
   "id": "a52525fb",
   "metadata": {},
   "outputs": [],
   "source": [
    "num_estimators = [1,5,10,50,100,150,200,1000]\n",
    "max_depth = [1,3,5]\n",
    "\n",
    "RFmodels = modelRandomForest(num_estimators, max_depth)\n",
    "rf_train_acc, rf_test_acc, rf_pred_prob, rf_train_time_list = train(RFmodels, X_train, y_train, X_test, y_test)\n",
    "\n",
    "model_result['RandomForest'] = {'train_score': max(rf_train_acc),\n",
    "                                'test_score': max(rf_test_acc),\n",
    "                                'predict_proba': rf_pred_prob[np.argmax(rf_test_acc)],\n",
    "                                'train_time': rf_train_time_list[np.argmax(rf_test_acc)]}"
   ]
  },
  {
   "cell_type": "code",
   "execution_count": 33,
   "id": "c3245bde",
   "metadata": {},
   "outputs": [
    {
     "name": "stdout",
     "output_type": "stream",
     "text": [
      "train score:  0.7342544068604098\n",
      "test score:  0.7323254779902179\n"
     ]
    }
   ],
   "source": [
    "print(\"train score: \", model_result['RandomForest']['train_score'])\n",
    "print(\"test score: \", model_result['RandomForest']['test_score'])"
   ]
  },
  {
   "cell_type": "markdown",
   "id": "50f4bec6",
   "metadata": {},
   "source": [
    "#### Gradient Boosting"
   ]
  },
  {
   "cell_type": "code",
   "execution_count": 34,
   "id": "7527b4b7",
   "metadata": {},
   "outputs": [],
   "source": [
    "from sklearn.ensemble import GradientBoostingClassifier\n",
    "\n",
    "def modelGradientBoost(num_estimators, learning_rate, max_depth):\n",
    "    \"\"\"\n",
    "    Creates model objects for the GradientBoost.\n",
    "\n",
    "    \"\"\"\n",
    "    random_state = 20\n",
    "    obj_GB = []\n",
    "\n",
    "    for n_estimators in num_estimators:\n",
    "        for depth in max_depth:\n",
    "            GB_clf = GradientBoostingClassifier(n_estimators=n_estimators, \\\n",
    "                                                learning_rate=learning_rate, \\\n",
    "                                                random_state=random_state, \\\n",
    "                                                max_depth=depth)\n",
    "            obj_GB.append(GB_clf)\n",
    "\n",
    "    return obj_GB"
   ]
  },
  {
   "cell_type": "code",
   "execution_count": 35,
   "id": "f6881bbb",
   "metadata": {},
   "outputs": [],
   "source": [
    "num_estimators = [1,5,10,50,100,150,200]\n",
    "learning_rate = 0.1\n",
    "max_depth = [1,3,5]\n",
    "\n",
    "GBmodels = modelGradientBoost(num_estimators, learning_rate, max_depth)\n",
    "GB_train_acc, GB_test_acc, GB_pred_prob, GB_train_time_list = train(GBmodels, X_train, y_train, X_test, y_test)\n",
    "\n",
    "model_result['GradientBoosting'] = {'train_score': max(GB_train_acc),\n",
    "                                    'test_score': max(GB_test_acc),\n",
    "                                    'predict_proba': GB_pred_prob[np.argmax(GB_test_acc)],\n",
    "                                    'train_time': GB_train_time_list[np.argmax(GB_test_acc)]}"
   ]
  },
  {
   "cell_type": "code",
   "execution_count": 36,
   "id": "dfb93ec7",
   "metadata": {},
   "outputs": [
    {
     "name": "stdout",
     "output_type": "stream",
     "text": [
      "train score:  0.8762267746545974\n",
      "test score:  0.762338817252112\n"
     ]
    }
   ],
   "source": [
    "print(\"train score: \", model_result['GradientBoosting']['train_score'])\n",
    "print(\"test score: \", model_result['GradientBoosting']['test_score'])"
   ]
  },
  {
   "cell_type": "markdown",
   "id": "a84309a5",
   "metadata": {},
   "source": [
    "#### AdaBoost"
   ]
  },
  {
   "cell_type": "code",
   "execution_count": 37,
   "id": "4fe8d947",
   "metadata": {},
   "outputs": [],
   "source": [
    "from sklearn.tree import DecisionTreeClassifier\n",
    "from sklearn.ensemble import AdaBoostClassifier\n",
    "\n",
    "def modelAdaBoost(num_estimators, learning_rate, max_depth):\n",
    "    \"\"\"\n",
    "    Creates model objects for the AdaBoost.\n",
    "\n",
    "    \"\"\"\n",
    "    random_state = 20\n",
    "    obj_boost = []\n",
    "\n",
    "    for n_estimators in num_estimators:\n",
    "        boost_clf = AdaBoostClassifier(estimator=DecisionTreeClassifier(max_depth=3), n_estimators=n_estimators, learning_rate=learning_rate, random_state=random_state)\n",
    "        obj_boost.append(boost_clf)\n",
    "\n",
    "    return obj_boost"
   ]
  },
  {
   "cell_type": "code",
   "execution_count": 38,
   "id": "4d34e12c",
   "metadata": {},
   "outputs": [],
   "source": [
    "num_estimators = [1,5,10,50,100,150]\n",
    "learning_rate = 0.1\n",
    "max_depth = 3\n",
    "\n",
    "AdaBoostModels = modelAdaBoost(num_estimators, learning_rate, max_depth)\n",
    "ada_train_acc, ada_test_acc, ada_pred_prob, ada_train_time_list = \\\n",
    "                    train(AdaBoostModels, X_train, y_train, X_test, y_test)\n",
    "\n",
    "model_result['AdaBoost'] = {'train_score': max(ada_train_acc),\n",
    "                            'test_score': max(ada_test_acc),\n",
    "                            'predict_proba': ada_pred_prob[np.argmax(ada_test_acc)],\n",
    "                            'train_time': ada_train_time_list[np.argmax(ada_test_acc)]}"
   ]
  },
  {
   "cell_type": "code",
   "execution_count": 39,
   "id": "6d1f4aad",
   "metadata": {
    "scrolled": true
   },
   "outputs": [
    {
     "name": "stdout",
     "output_type": "stream",
     "text": [
      "train score:  0.801524535493092\n",
      "test score:  0.7581147176522899\n"
     ]
    }
   ],
   "source": [
    "print(\"train score: \", model_result['AdaBoost']['train_score'])\n",
    "print(\"test score: \", model_result['AdaBoost']['test_score'])"
   ]
  },
  {
   "cell_type": "markdown",
   "id": "601e9ae9",
   "metadata": {},
   "source": [
    "#### XGBoost"
   ]
  },
  {
   "cell_type": "code",
   "execution_count": 40,
   "id": "2a3e926f",
   "metadata": {},
   "outputs": [],
   "source": [
    "from xgboost import XGBClassifier\n",
    "\n",
    "def modelXGBoost(num_estimators, L1_reg, L2_reg, max_depth):\n",
    "    \"\"\"\n",
    "    Creates model objects for the XGBoost.\n",
    "\n",
    "    \"\"\"\n",
    "    obj_xgb = []\n",
    "    params = []\n",
    "\n",
    "    for n_estimators in num_estimators:\n",
    "        for depth in max_depth:\n",
    "            for reg_alpha in L1_reg:\n",
    "                for reg_lambda in L2_reg:\n",
    "                    xgb_clf = XGBClassifier(n_estimators=n_estimators,\n",
    "                                            max_depth=depth,\n",
    "                                            reg_alpha=reg_alpha,\n",
    "                                            reg_lambda=reg_lambda)\n",
    "                    params.append('n_est:{},max_depth:{},alpha:{},lambda:{}'.format(n_estimators, depth, reg_alpha, reg_lambda))\n",
    "                    obj_xgb.append(xgb_clf)\n",
    "\n",
    "    return obj_xgb, params"
   ]
  },
  {
   "cell_type": "code",
   "execution_count": 41,
   "id": "ad84eaf1",
   "metadata": {},
   "outputs": [],
   "source": [
    "num_estimators = [1,5,10,50,100,300]\n",
    "L1_reg = [0.01, 0.1, 0.3]\n",
    "L2_reg = [0.01, 0.1, 0.3]\n",
    "max_depth = [1,3,5]\n",
    "\n",
    "XGBmodels, XGBparams = modelXGBoost(num_estimators, L1_reg, L2_reg, max_depth)\n",
    "XGB_train_acc, XGB_test_acc, XGB_pred_prob, XGB_train_time_list = train(XGBmodels, X_train, y_train, X_test, y_test)\n",
    "\n",
    "model_result['XGBoost'] = {'train_score': max(XGB_train_acc),\n",
    "                           'test_score': max(XGB_test_acc),\n",
    "                           'predict_proba': XGB_pred_prob[np.argmax(XGB_test_acc)],\n",
    "                           'train_time': XGB_train_time_list[np.argmax(XGB_test_acc)],\n",
    "                           'parameters': XGBparams[np.argmax(XGB_test_acc)]}"
   ]
  },
  {
   "cell_type": "code",
   "execution_count": 42,
   "id": "2c4c4e9f",
   "metadata": {},
   "outputs": [
    {
     "name": "stdout",
     "output_type": "stream",
     "text": [
      "train score:  0.9923773225345403\n",
      "test score:  0.7663405958203646\n"
     ]
    }
   ],
   "source": [
    "print(\"train score: \", model_result['XGBoost']['train_score'])\n",
    "print(\"test score: \", model_result['XGBoost']['test_score'])"
   ]
  },
  {
   "cell_type": "markdown",
   "id": "63dfa6b3",
   "metadata": {},
   "source": [
    "#### Kernel SVM (Take hours, don't run)"
   ]
  },
  {
   "cell_type": "code",
   "execution_count": 24,
   "id": "d5a7d8e8",
   "metadata": {
    "scrolled": true
   },
   "outputs": [
    {
     "name": "stdout",
     "output_type": "stream",
     "text": [
      "========== training SVM: kernel=linear, C=0.01 ==========\n",
      "train accuracy = 0.7209147212958552\n",
      "test accuracy = 0.7180969319697643\n",
      "time run = 220.48916363716125\n",
      "========== training SVM: kernel=linear, C=0.1 ==========\n",
      "train accuracy = 0.7209147212958552\n",
      "test accuracy = 0.7180969319697643\n",
      "time run = 3415.8800387382507\n",
      "========== training SVM: kernel=linear, C=1.0 ==========\n",
      "train accuracy = 0.7209147212958552\n",
      "test accuracy = 0.7180969319697643\n",
      "time run = 6729.6468052864075\n",
      "========== training SVM: kernel=linear, C=10.0 ==========\n",
      "train accuracy = 0.7209147212958552\n",
      "test accuracy = 0.7180969319697643\n",
      "time run = 5993.176003932953\n",
      "========== training SVM: kernel=linear, C=50.0 ==========\n",
      "train accuracy = 0.7210100047641734\n",
      "test accuracy = 0.7183192530013339\n",
      "time run = 6539.495803833008\n",
      "========== training SVM: kernel=poly, C=0.01 ==========\n",
      "train accuracy = 0.7209147212958552\n",
      "test accuracy = 0.7178746109381947\n",
      "time run = 85.24798321723938\n",
      "========== training SVM: kernel=poly, C=0.1 ==========\n",
      "train accuracy = 0.7210100047641734\n",
      "test accuracy = 0.7176522899066252\n",
      "time run = 130.54536199569702\n",
      "========== training SVM: kernel=poly, C=1.0 ==========\n",
      "train accuracy = 0.7219628394473558\n",
      "test accuracy = 0.7174299688750556\n",
      "time run = 281.66174721717834\n",
      "========== training SVM: kernel=poly, C=10.0 ==========\n",
      "train accuracy = 0.7241543592186755\n",
      "test accuracy = 0.7192085371276122\n",
      "time run = 576.2569258213043\n",
      "========== training SVM: kernel=poly, C=50.0 ==========\n",
      "train accuracy = 0.7261553120533587\n",
      "test accuracy = 0.7194308581591818\n",
      "time run = 1293.637396812439\n",
      "========== training SVM: kernel=rbf, C=0.01 ==========\n",
      "train accuracy = 0.7209147212958552\n",
      "test accuracy = 0.7180969319697643\n",
      "time run = 10.9929940700531\n",
      "========== training SVM: kernel=rbf, C=0.1 ==========\n",
      "train accuracy = 0.7209147212958552\n",
      "test accuracy = 0.7180969319697643\n",
      "time run = 12.169147253036499\n",
      "========== training SVM: kernel=rbf, C=1.0 ==========\n",
      "train accuracy = 0.7212005717008099\n",
      "test accuracy = 0.7183192530013339\n",
      "time run = 14.34000539779663\n",
      "========== training SVM: kernel=rbf, C=10.0 ==========\n",
      "train accuracy = 0.7215817055740829\n",
      "test accuracy = 0.7180969319697643\n",
      "time run = 15.332330226898193\n",
      "========== training SVM: kernel=rbf, C=50.0 ==========\n",
      "train accuracy = 0.7287279656979514\n",
      "test accuracy = 0.7243219208537127\n",
      "time run = 16.052656173706055\n",
      "========== training SVM: kernel=sigmoid, C=0.01 ==========\n",
      "train accuracy = 0.7211052882324916\n",
      "test accuracy = 0.7174299688750556\n",
      "time run = 14.339763402938843\n",
      "========== training SVM: kernel=sigmoid, C=0.1 ==========\n",
      "train accuracy = 0.7028108623153883\n",
      "test accuracy = 0.6991996442863495\n",
      "time run = 13.053310632705688\n",
      "========== training SVM: kernel=sigmoid, C=1.0 ==========\n",
      "train accuracy = 0.6881372081943783\n",
      "test accuracy = 0.6805246776345042\n",
      "time run = 13.26952052116394\n",
      "========== training SVM: kernel=sigmoid, C=10.0 ==========\n",
      "train accuracy = 0.6778465936160076\n",
      "test accuracy = 0.6676300578034682\n",
      "time run = 9.802653312683105\n",
      "========== training SVM: kernel=sigmoid, C=50.0 ==========\n",
      "train accuracy = 0.6751786565030967\n",
      "test accuracy = 0.6636282792352156\n",
      "time run = 8.80758786201477\n"
     ]
    }
   ],
   "source": [
    "from sklearn.svm import SVC\n",
    "\n",
    "kernels = ['linear', 'poly', 'rbf', 'sigmoid']\n",
    "reg_params = [0.01, 0.1, 1.0, 10.0, 50.0]\n",
    "\n",
    "ksvm_models = np.empty((len(kernels), len(reg_params)), dtype=object)\n",
    "ksvm_train_acc = np.zeros((len(kernels), len(reg_params)), dtype=float)\n",
    "ksvm_test_acc = np.zeros((len(kernels), len(reg_params)), dtype=float)\n",
    "ksvm_time_run = np.zeros((len(kernels), len(reg_params)), dtype=float)\n",
    "\n",
    "for k_i, kernel in enumerate(kernels):\n",
    "    for p_i, reg_param in enumerate(reg_params):\n",
    "        print('========== training SVM: kernel={}, C={} =========='.format(kernel, reg_param))\n",
    "        svm_clf = SVC(C=reg_param, kernel=kernel, random_state=20, probability=True)\n",
    "        start_time = time.time()\n",
    "        svm_clf.fit(X_train, y_train)\n",
    "        ksvm_time_run[k_i, p_i] = time.time() - start_time\n",
    "        ksvm_models[k_i, p_i] = svm_clf\n",
    "        ksvm_train_acc[k_i, p_i] = accuracy_score(y_train, svm_clf.predict(X_train))\n",
    "        ksvm_test_acc[k_i, p_i] = accuracy_score(y_test, svm_clf.predict(X_test))\n",
    "        print('train accuracy = {}'.format(ksvm_train_acc[k_i, p_i]))\n",
    "        print('test accuracy = {}'.format(ksvm_test_acc[k_i, p_i]))\n",
    "        print('time run = {}'.format(ksvm_time_run[k_i, p_i]))\n",
    "        \n",
    "model_result['SVM'] = {'train_score': np.max(ksvm_train_acc),\n",
    "                       'test_score': np.max(ksvm_test_acc),\n",
    "                       'predict_proba': ksvm_models.flatten()[np.argmax(ksvm_test_acc)].predict_proba(X_test),\n",
    "                       'train_time': ksvm_time_run.flatten()[np.argmax(ksvm_test_acc)]}"
   ]
  },
  {
   "cell_type": "code",
   "execution_count": 25,
   "id": "69ac5452",
   "metadata": {},
   "outputs": [
    {
     "data": {
      "text/plain": [
       "<AxesSubplot: xlabel='Kernel', ylabel='C'>"
      ]
     },
     "execution_count": 25,
     "metadata": {},
     "output_type": "execute_result"
    },
    {
     "data": {
      "image/png": "[encoded data removed]",
      "text/plain": [
       "<Figure size 640x480 with 2 Axes>"
      ]
     },
     "metadata": {},
     "output_type": "display_data"
    }
   ],
   "source": [
    "### plot heatmap\n",
    "kernel_names = np.array([[kernel] * len(reg_params) for kernel in kernels]).flatten()\n",
    "reg_param_names = np.array([[param for param in reg_params] * len(kernels)]).flatten()\n",
    "ksvm_result_df = list(zip(kernel_names, reg_param_names, np.array(ksvm_test_acc).flatten()))\n",
    "ksvm_result_df = pd.DataFrame(ksvm_result_df, columns=['Kernel', 'C', 'Score'])\n",
    "ksvm_result_df = ksvm_result_df.pivot(index='C', columns='Kernel', values='Score')\n",
    "sns.heatmap(ksvm_result_df, annot=True)"
   ]
  },
  {
   "cell_type": "markdown",
   "id": "5cb709f3",
   "metadata": {},
   "source": [
    "### ROC curve"
   ]
  },
  {
   "cell_type": "code",
   "execution_count": 43,
   "id": "5b0e2f70",
   "metadata": {
    "scrolled": false
   },
   "outputs": [
    {
     "data": {
      "image/png": "[encoded data removed]",
      "text/plain": [
       "<Figure size 640x480 with 1 Axes>"
      ]
     },
     "metadata": {},
     "output_type": "display_data"
    }
   ],
   "source": [
    "plot_roc_curve(y_test, model_result)"
   ]
  },
  {
   "cell_type": "markdown",
   "id": "500cdea6",
   "metadata": {},
   "source": [
    "### Train Time Plot"
   ]
  },
  {
   "cell_type": "code",
   "execution_count": 379,
   "id": "c0513daf",
   "metadata": {},
   "outputs": [
    {
     "data": {
      "text/plain": [
       "<AxesSubplot: xlabel='Training Time', ylabel='Models'>"
      ]
     },
     "execution_count": 379,
     "metadata": {},
     "output_type": "execute_result"
    },
    {
     "data": {
      "image/png": "[encoded data removed]",
      "text/plain": [
       "<Figure size 640x480 with 1 Axes>"
      ]
     },
     "metadata": {},
     "output_type": "display_data"
    }
   ],
   "source": [
    "train_time_list = pd.DataFrame([model_result[model]['train_time'] for model in model_result], columns=['Training Time'])\n",
    "model_names_list = pd.DataFrame([model for model in model_result], columns=['Models'])\n",
    "train_time_df = pd.concat([model_names_list, train_time_list], axis=1)\n",
    "sns.barplot(data=train_time_df, y='Models', x='Training Time')"
   ]
  },
  {
   "cell_type": "markdown",
   "id": "f7ff962b",
   "metadata": {},
   "source": [
    "#### AutoML (slightly worse than our tuned model)"
   ]
  },
  {
   "cell_type": "code",
   "execution_count": null,
   "id": "500548e9",
   "metadata": {},
   "outputs": [],
   "source": [
    "import PipelineProfiler\n",
    "import autosklearn.classification\n",
    "import sklearn.model_selection\n",
    "import sklearn.datasets\n",
    "import sklearn.metrics"
   ]
  },
  {
   "cell_type": "code",
   "execution_count": 72,
   "id": "85ceb8a4",
   "metadata": {},
   "outputs": [
    {
     "name": "stdout",
     "output_type": "stream",
     "text": [
      "[WARNING] [2022-12-13 12:30:34,472:Client-EnsembleBuilder] No runs were available to build an ensemble from\n",
      "[WARNING] [2022-12-13 12:30:36,119:Client-EnsembleBuilder] No runs were available to build an ensemble from\n",
      "[WARNING] [2022-12-13 12:30:36,975:Client-EnsembleBuilder] No runs were available to build an ensemble from\n"
     ]
    },
    {
     "name": "stderr",
     "output_type": "stream",
     "text": [
      "Process ForkProcess-331:\n",
      "Traceback (most recent call last):\n",
      "  File \"/usr/lib/python3.8/multiprocessing/process.py\", line 315, in _bootstrap\n",
      "    self.run()\n",
      "  File \"/usr/lib/python3.8/multiprocessing/process.py\", line 108, in run\n",
      "    self._target(*self._args, **self._kwargs)\n",
      "  File \"/home/louisfanhz/.local/lib/python3.8/site-packages/autosklearn/util/logging_.py\", line 317, in start_log_server\n",
      "    receiver.serve_until_stopped()\n",
      "  File \"/home/louisfanhz/.local/lib/python3.8/site-packages/autosklearn/util/logging_.py\", line 347, in serve_until_stopped\n",
      "    rd, wr, ex = select.select([self.socket.fileno()], [], [], self.timeout)\n",
      "KeyboardInterrupt\n"
     ]
    },
    {
     "ename": "KeyboardInterrupt",
     "evalue": "",
     "output_type": "error",
     "traceback": [
      "\u001b[0;31m---------------------------------------------------------------------------\u001b[0m",
      "\u001b[0;31mKeyboardInterrupt\u001b[0m                         Traceback (most recent call last)",
      "Cell \u001b[0;32mIn[72], line 2\u001b[0m\n\u001b[1;32m      1\u001b[0m automl \u001b[38;5;241m=\u001b[39m autosklearn\u001b[38;5;241m.\u001b[39mclassification\u001b[38;5;241m.\u001b[39mAutoSklearnClassifier(time_left_for_this_task\u001b[38;5;241m=\u001b[39m\u001b[38;5;241m10800\u001b[39m)\n\u001b[0;32m----> 2\u001b[0m \u001b[43mautoml\u001b[49m\u001b[38;5;241;43m.\u001b[39;49m\u001b[43mfit\u001b[49m\u001b[43m(\u001b[49m\u001b[43mX_train\u001b[49m\u001b[43m,\u001b[49m\u001b[43m \u001b[49m\u001b[43my_train\u001b[49m\u001b[43m,\u001b[49m\u001b[43m \u001b[49m\u001b[43mdataset_name\u001b[49m\u001b[38;5;241;43m=\u001b[39;49m\u001b[38;5;124;43m'\u001b[39;49m\u001b[38;5;124;43mPet_Adoption\u001b[39;49m\u001b[38;5;124;43m'\u001b[39;49m\u001b[43m)\u001b[49m\n",
      "File \u001b[0;32m~/.local/lib/python3.8/site-packages/autosklearn/estimators.py:1448\u001b[0m, in \u001b[0;36mAutoSklearnClassifier.fit\u001b[0;34m(self, X, y, X_test, y_test, feat_type, dataset_name)\u001b[0m\n\u001b[1;32m   1445\u001b[0m \u001b[38;5;66;03m# remember target type for using in predict_proba later.\u001b[39;00m\n\u001b[1;32m   1446\u001b[0m \u001b[38;5;28mself\u001b[39m\u001b[38;5;241m.\u001b[39mtarget_type \u001b[38;5;241m=\u001b[39m target_type\n\u001b[0;32m-> 1448\u001b[0m \u001b[38;5;28;43msuper\u001b[39;49m\u001b[43m(\u001b[49m\u001b[43m)\u001b[49m\u001b[38;5;241;43m.\u001b[39;49m\u001b[43mfit\u001b[49m\u001b[43m(\u001b[49m\n\u001b[1;32m   1449\u001b[0m \u001b[43m    \u001b[49m\u001b[43mX\u001b[49m\u001b[38;5;241;43m=\u001b[39;49m\u001b[43mX\u001b[49m\u001b[43m,\u001b[49m\n\u001b[1;32m   1450\u001b[0m \u001b[43m    \u001b[49m\u001b[43my\u001b[49m\u001b[38;5;241;43m=\u001b[39;49m\u001b[43my\u001b[49m\u001b[43m,\u001b[49m\n\u001b[1;32m   1451\u001b[0m \u001b[43m    \u001b[49m\u001b[43mX_test\u001b[49m\u001b[38;5;241;43m=\u001b[39;49m\u001b[43mX_test\u001b[49m\u001b[43m,\u001b[49m\n\u001b[1;32m   1452\u001b[0m \u001b[43m    \u001b[49m\u001b[43my_test\u001b[49m\u001b[38;5;241;43m=\u001b[39;49m\u001b[43my_test\u001b[49m\u001b[43m,\u001b[49m\n\u001b[1;32m   1453\u001b[0m \u001b[43m    \u001b[49m\u001b[43mfeat_type\u001b[49m\u001b[38;5;241;43m=\u001b[39;49m\u001b[43mfeat_type\u001b[49m\u001b[43m,\u001b[49m\n\u001b[1;32m   1454\u001b[0m \u001b[43m    \u001b[49m\u001b[43mdataset_name\u001b[49m\u001b[38;5;241;43m=\u001b[39;49m\u001b[43mdataset_name\u001b[49m\u001b[43m,\u001b[49m\n\u001b[1;32m   1455\u001b[0m \u001b[43m\u001b[49m\u001b[43m)\u001b[49m\n\u001b[1;32m   1457\u001b[0m \u001b[38;5;66;03m# After fit, a classifier is expected to define classes_\u001b[39;00m\n\u001b[1;32m   1458\u001b[0m \u001b[38;5;66;03m# A list of class labels known to the classifier, mapping each label\u001b[39;00m\n\u001b[1;32m   1459\u001b[0m \u001b[38;5;66;03m# to a numerical index used in the model representation our output.\u001b[39;00m\n\u001b[1;32m   1460\u001b[0m \u001b[38;5;28mself\u001b[39m\u001b[38;5;241m.\u001b[39mclasses_ \u001b[38;5;241m=\u001b[39m \u001b[38;5;28mself\u001b[39m\u001b[38;5;241m.\u001b[39mautoml_\u001b[38;5;241m.\u001b[39mInputValidator\u001b[38;5;241m.\u001b[39mtarget_validator\u001b[38;5;241m.\u001b[39mclasses_\n",
      "File \u001b[0;32m~/.local/lib/python3.8/site-packages/autosklearn/estimators.py:540\u001b[0m, in \u001b[0;36mAutoSklearnEstimator.fit\u001b[0;34m(self, **kwargs)\u001b[0m\n\u001b[1;32m    538\u001b[0m \u001b[38;5;28;01mif\u001b[39;00m \u001b[38;5;28mself\u001b[39m\u001b[38;5;241m.\u001b[39mautoml_ \u001b[38;5;129;01mis\u001b[39;00m \u001b[38;5;28;01mNone\u001b[39;00m:\n\u001b[1;32m    539\u001b[0m     \u001b[38;5;28mself\u001b[39m\u001b[38;5;241m.\u001b[39mautoml_ \u001b[38;5;241m=\u001b[39m \u001b[38;5;28mself\u001b[39m\u001b[38;5;241m.\u001b[39mbuild_automl()\n\u001b[0;32m--> 540\u001b[0m \u001b[38;5;28;43mself\u001b[39;49m\u001b[38;5;241;43m.\u001b[39;49m\u001b[43mautoml_\u001b[49m\u001b[38;5;241;43m.\u001b[39;49m\u001b[43mfit\u001b[49m\u001b[43m(\u001b[49m\u001b[43mload_models\u001b[49m\u001b[38;5;241;43m=\u001b[39;49m\u001b[38;5;28;43mself\u001b[39;49m\u001b[38;5;241;43m.\u001b[39;49m\u001b[43mload_models\u001b[49m\u001b[43m,\u001b[49m\u001b[43m \u001b[49m\u001b[38;5;241;43m*\u001b[39;49m\u001b[38;5;241;43m*\u001b[39;49m\u001b[43mkwargs\u001b[49m\u001b[43m)\u001b[49m\n\u001b[1;32m    542\u001b[0m \u001b[38;5;28;01mreturn\u001b[39;00m \u001b[38;5;28mself\u001b[39m\n",
      "File \u001b[0;32m~/.local/lib/python3.8/site-packages/autosklearn/automl.py:2304\u001b[0m, in \u001b[0;36mAutoMLClassifier.fit\u001b[0;34m(self, X, y, X_test, y_test, feat_type, dataset_name, only_return_configuration_space, load_models)\u001b[0m\n\u001b[1;32m   2293\u001b[0m \u001b[38;5;28;01mdef\u001b[39;00m \u001b[38;5;21mfit\u001b[39m(\n\u001b[1;32m   2294\u001b[0m     \u001b[38;5;28mself\u001b[39m,\n\u001b[1;32m   2295\u001b[0m     X: SUPPORTED_FEAT_TYPES,\n\u001b[0;32m   (...)\u001b[0m\n\u001b[1;32m   2302\u001b[0m     load_models: \u001b[38;5;28mbool\u001b[39m \u001b[38;5;241m=\u001b[39m \u001b[38;5;28;01mTrue\u001b[39;00m,\n\u001b[1;32m   2303\u001b[0m ) \u001b[38;5;241m-\u001b[39m\u001b[38;5;241m>\u001b[39m AutoMLClassifier:\n\u001b[0;32m-> 2304\u001b[0m     \u001b[38;5;28;01mreturn\u001b[39;00m \u001b[38;5;28;43msuper\u001b[39;49m\u001b[43m(\u001b[49m\u001b[43m)\u001b[49m\u001b[38;5;241;43m.\u001b[39;49m\u001b[43mfit\u001b[49m\u001b[43m(\u001b[49m\n\u001b[1;32m   2305\u001b[0m \u001b[43m        \u001b[49m\u001b[43mX\u001b[49m\u001b[43m,\u001b[49m\n\u001b[1;32m   2306\u001b[0m \u001b[43m        \u001b[49m\u001b[43my\u001b[49m\u001b[43m,\u001b[49m\n\u001b[1;32m   2307\u001b[0m \u001b[43m        \u001b[49m\u001b[43mX_test\u001b[49m\u001b[38;5;241;43m=\u001b[39;49m\u001b[43mX_test\u001b[49m\u001b[43m,\u001b[49m\n\u001b[1;32m   2308\u001b[0m \u001b[43m        \u001b[49m\u001b[43my_test\u001b[49m\u001b[38;5;241;43m=\u001b[39;49m\u001b[43my_test\u001b[49m\u001b[43m,\u001b[49m\n\u001b[1;32m   2309\u001b[0m \u001b[43m        \u001b[49m\u001b[43mfeat_type\u001b[49m\u001b[38;5;241;43m=\u001b[39;49m\u001b[43mfeat_type\u001b[49m\u001b[43m,\u001b[49m\n\u001b[1;32m   2310\u001b[0m \u001b[43m        \u001b[49m\u001b[43mdataset_name\u001b[49m\u001b[38;5;241;43m=\u001b[39;49m\u001b[43mdataset_name\u001b[49m\u001b[43m,\u001b[49m\n\u001b[1;32m   2311\u001b[0m \u001b[43m        \u001b[49m\u001b[43monly_return_configuration_space\u001b[49m\u001b[38;5;241;43m=\u001b[39;49m\u001b[43monly_return_configuration_space\u001b[49m\u001b[43m,\u001b[49m\n\u001b[1;32m   2312\u001b[0m \u001b[43m        \u001b[49m\u001b[43mload_models\u001b[49m\u001b[38;5;241;43m=\u001b[39;49m\u001b[43mload_models\u001b[49m\u001b[43m,\u001b[49m\n\u001b[1;32m   2313\u001b[0m \u001b[43m        \u001b[49m\u001b[43mis_classification\u001b[49m\u001b[38;5;241;43m=\u001b[39;49m\u001b[38;5;28;43;01mTrue\u001b[39;49;00m\u001b[43m,\u001b[49m\n\u001b[1;32m   2314\u001b[0m \u001b[43m    \u001b[49m\u001b[43m)\u001b[49m\n",
      "File \u001b[0;32m~/.local/lib/python3.8/site-packages/autosklearn/automl.py:899\u001b[0m, in \u001b[0;36mAutoML.fit\u001b[0;34m(self, X, y, task, X_test, y_test, feat_type, dataset_name, only_return_configuration_space, load_models, is_classification)\u001b[0m\n\u001b[1;32m    863\u001b[0m resamp_args \u001b[38;5;241m=\u001b[39m \u001b[38;5;28mself\u001b[39m\u001b[38;5;241m.\u001b[39m_resampling_strategy_arguments\n\u001b[1;32m    864\u001b[0m _proc_smac \u001b[38;5;241m=\u001b[39m AutoMLSMBO(\n\u001b[1;32m    865\u001b[0m     config_space\u001b[38;5;241m=\u001b[39m\u001b[38;5;28mself\u001b[39m\u001b[38;5;241m.\u001b[39mconfiguration_space,\n\u001b[1;32m    866\u001b[0m     dataset_name\u001b[38;5;241m=\u001b[39m\u001b[38;5;28mself\u001b[39m\u001b[38;5;241m.\u001b[39m_dataset_name,\n\u001b[0;32m   (...)\u001b[0m\n\u001b[1;32m    892\u001b[0m     trials_callback\u001b[38;5;241m=\u001b[39m\u001b[38;5;28mself\u001b[39m\u001b[38;5;241m.\u001b[39m_get_trials_callback,\n\u001b[1;32m    893\u001b[0m )\n\u001b[1;32m    895\u001b[0m (\n\u001b[1;32m    896\u001b[0m     \u001b[38;5;28mself\u001b[39m\u001b[38;5;241m.\u001b[39mrunhistory_,\n\u001b[1;32m    897\u001b[0m     \u001b[38;5;28mself\u001b[39m\u001b[38;5;241m.\u001b[39mtrajectory_,\n\u001b[1;32m    898\u001b[0m     \u001b[38;5;28mself\u001b[39m\u001b[38;5;241m.\u001b[39m_budget_type,\n\u001b[0;32m--> 899\u001b[0m ) \u001b[38;5;241m=\u001b[39m \u001b[43m_proc_smac\u001b[49m\u001b[38;5;241;43m.\u001b[39;49m\u001b[43mrun_smbo\u001b[49m\u001b[43m(\u001b[49m\u001b[43m)\u001b[49m\n\u001b[1;32m    901\u001b[0m trajectory_filename \u001b[38;5;241m=\u001b[39m os\u001b[38;5;241m.\u001b[39mpath\u001b[38;5;241m.\u001b[39mjoin(\n\u001b[1;32m    902\u001b[0m     \u001b[38;5;28mself\u001b[39m\u001b[38;5;241m.\u001b[39m_backend\u001b[38;5;241m.\u001b[39mget_smac_output_directory_for_run(\u001b[38;5;28mself\u001b[39m\u001b[38;5;241m.\u001b[39m_seed),\n\u001b[1;32m    903\u001b[0m     \u001b[38;5;124m\"\u001b[39m\u001b[38;5;124mtrajectory.json\u001b[39m\u001b[38;5;124m\"\u001b[39m,\n\u001b[1;32m    904\u001b[0m )\n\u001b[1;32m    905\u001b[0m saveable_trajectory \u001b[38;5;241m=\u001b[39m [\n\u001b[1;32m    906\u001b[0m     \u001b[38;5;28mlist\u001b[39m(entry[:\u001b[38;5;241m2\u001b[39m])\n\u001b[1;32m    907\u001b[0m     \u001b[38;5;241m+\u001b[39m [entry[\u001b[38;5;241m2\u001b[39m]\u001b[38;5;241m.\u001b[39mget_dictionary()]\n\u001b[1;32m    908\u001b[0m     \u001b[38;5;241m+\u001b[39m \u001b[38;5;28mlist\u001b[39m(entry[\u001b[38;5;241m3\u001b[39m:])\n\u001b[1;32m    909\u001b[0m     \u001b[38;5;28;01mfor\u001b[39;00m entry \u001b[38;5;129;01min\u001b[39;00m \u001b[38;5;28mself\u001b[39m\u001b[38;5;241m.\u001b[39mtrajectory_\n\u001b[1;32m    910\u001b[0m ]\n",
      "File \u001b[0;32m~/.local/lib/python3.8/site-packages/autosklearn/smbo.py:552\u001b[0m, in \u001b[0;36mAutoMLSMBO.run_smbo\u001b[0;34m(self)\u001b[0m\n\u001b[1;32m    549\u001b[0m \u001b[38;5;28;01mif\u001b[39;00m \u001b[38;5;28mself\u001b[39m\u001b[38;5;241m.\u001b[39mtrials_callback \u001b[38;5;129;01mis\u001b[39;00m \u001b[38;5;129;01mnot\u001b[39;00m \u001b[38;5;28;01mNone\u001b[39;00m:\n\u001b[1;32m    550\u001b[0m     smac\u001b[38;5;241m.\u001b[39mregister_callback(\u001b[38;5;28mself\u001b[39m\u001b[38;5;241m.\u001b[39mtrials_callback)\n\u001b[0;32m--> 552\u001b[0m \u001b[43msmac\u001b[49m\u001b[38;5;241;43m.\u001b[39;49m\u001b[43moptimize\u001b[49m\u001b[43m(\u001b[49m\u001b[43m)\u001b[49m\n\u001b[1;32m    554\u001b[0m \u001b[38;5;28mself\u001b[39m\u001b[38;5;241m.\u001b[39mrunhistory \u001b[38;5;241m=\u001b[39m smac\u001b[38;5;241m.\u001b[39msolver\u001b[38;5;241m.\u001b[39mrunhistory\n\u001b[1;32m    555\u001b[0m \u001b[38;5;28mself\u001b[39m\u001b[38;5;241m.\u001b[39mtrajectory \u001b[38;5;241m=\u001b[39m smac\u001b[38;5;241m.\u001b[39msolver\u001b[38;5;241m.\u001b[39mintensifier\u001b[38;5;241m.\u001b[39mtraj_logger\u001b[38;5;241m.\u001b[39mtrajectory\n",
      "File \u001b[0;32m~/.local/lib/python3.8/site-packages/smac/facade/smac_ac_facade.py:720\u001b[0m, in \u001b[0;36mSMAC4AC.optimize\u001b[0;34m(self)\u001b[0m\n\u001b[1;32m    718\u001b[0m incumbent \u001b[38;5;241m=\u001b[39m \u001b[38;5;28;01mNone\u001b[39;00m\n\u001b[1;32m    719\u001b[0m \u001b[38;5;28;01mtry\u001b[39;00m:\n\u001b[0;32m--> 720\u001b[0m     incumbent \u001b[38;5;241m=\u001b[39m \u001b[38;5;28;43mself\u001b[39;49m\u001b[38;5;241;43m.\u001b[39;49m\u001b[43msolver\u001b[49m\u001b[38;5;241;43m.\u001b[39;49m\u001b[43mrun\u001b[49m\u001b[43m(\u001b[49m\u001b[43m)\u001b[49m\n\u001b[1;32m    721\u001b[0m \u001b[38;5;28;01mfinally\u001b[39;00m:\n\u001b[1;32m    722\u001b[0m     \u001b[38;5;28mself\u001b[39m\u001b[38;5;241m.\u001b[39msolver\u001b[38;5;241m.\u001b[39msave()\n",
      "File \u001b[0;32m~/.local/lib/python3.8/site-packages/smac/optimizer/smbo.py:229\u001b[0m, in \u001b[0;36mSMBO.run\u001b[0;34m(self)\u001b[0m\n\u001b[1;32m    225\u001b[0m start_time \u001b[38;5;241m=\u001b[39m time\u001b[38;5;241m.\u001b[39mtime()\n\u001b[1;32m    227\u001b[0m \u001b[38;5;66;03m# sample next configuration for intensification\u001b[39;00m\n\u001b[1;32m    228\u001b[0m \u001b[38;5;66;03m# Initial design runs are also included in the BO loop now.\u001b[39;00m\n\u001b[0;32m--> 229\u001b[0m intent, run_info \u001b[38;5;241m=\u001b[39m \u001b[38;5;28;43mself\u001b[39;49m\u001b[38;5;241;43m.\u001b[39;49m\u001b[43mintensifier\u001b[49m\u001b[38;5;241;43m.\u001b[39;49m\u001b[43mget_next_run\u001b[49m\u001b[43m(\u001b[49m\n\u001b[1;32m    230\u001b[0m \u001b[43m    \u001b[49m\u001b[43mchallengers\u001b[49m\u001b[38;5;241;43m=\u001b[39;49m\u001b[38;5;28;43mself\u001b[39;49m\u001b[38;5;241;43m.\u001b[39;49m\u001b[43minitial_design_configs\u001b[49m\u001b[43m,\u001b[49m\n\u001b[1;32m    231\u001b[0m \u001b[43m    \u001b[49m\u001b[43mincumbent\u001b[49m\u001b[38;5;241;43m=\u001b[39;49m\u001b[38;5;28;43mself\u001b[39;49m\u001b[38;5;241;43m.\u001b[39;49m\u001b[43mincumbent\u001b[49m\u001b[43m,\u001b[49m\n\u001b[1;32m    232\u001b[0m \u001b[43m    \u001b[49m\u001b[43mchooser\u001b[49m\u001b[38;5;241;43m=\u001b[39;49m\u001b[38;5;28;43mself\u001b[39;49m\u001b[38;5;241;43m.\u001b[39;49m\u001b[43mepm_chooser\u001b[49m\u001b[43m,\u001b[49m\n\u001b[1;32m    233\u001b[0m \u001b[43m    \u001b[49m\u001b[43mrun_history\u001b[49m\u001b[38;5;241;43m=\u001b[39;49m\u001b[38;5;28;43mself\u001b[39;49m\u001b[38;5;241;43m.\u001b[39;49m\u001b[43mrunhistory\u001b[49m\u001b[43m,\u001b[49m\n\u001b[1;32m    234\u001b[0m \u001b[43m    \u001b[49m\u001b[43mrepeat_configs\u001b[49m\u001b[38;5;241;43m=\u001b[39;49m\u001b[38;5;28;43mself\u001b[39;49m\u001b[38;5;241;43m.\u001b[39;49m\u001b[43mintensifier\u001b[49m\u001b[38;5;241;43m.\u001b[39;49m\u001b[43mrepeat_configs\u001b[49m\u001b[43m,\u001b[49m\n\u001b[1;32m    235\u001b[0m \u001b[43m    \u001b[49m\u001b[43mnum_workers\u001b[49m\u001b[38;5;241;43m=\u001b[39;49m\u001b[38;5;28;43mself\u001b[39;49m\u001b[38;5;241;43m.\u001b[39;49m\u001b[43mtae_runner\u001b[49m\u001b[38;5;241;43m.\u001b[39;49m\u001b[43mnum_workers\u001b[49m\u001b[43m(\u001b[49m\u001b[43m)\u001b[49m\u001b[43m,\u001b[49m\n\u001b[1;32m    236\u001b[0m \u001b[43m\u001b[49m\u001b[43m)\u001b[49m\n\u001b[1;32m    238\u001b[0m \u001b[38;5;66;03m# remove config from initial design challengers to not repeat it again\u001b[39;00m\n\u001b[1;32m    239\u001b[0m \u001b[38;5;28mself\u001b[39m\u001b[38;5;241m.\u001b[39minitial_design_configs \u001b[38;5;241m=\u001b[39m [\n\u001b[1;32m    240\u001b[0m     c \u001b[38;5;28;01mfor\u001b[39;00m c \u001b[38;5;129;01min\u001b[39;00m \u001b[38;5;28mself\u001b[39m\u001b[38;5;241m.\u001b[39minitial_design_configs \u001b[38;5;28;01mif\u001b[39;00m c \u001b[38;5;241m!=\u001b[39m run_info\u001b[38;5;241m.\u001b[39mconfig\n\u001b[1;32m    241\u001b[0m ]\n",
      "File \u001b[0;32m~/.local/lib/python3.8/site-packages/smac/intensification/simple_intensifier.py:169\u001b[0m, in \u001b[0;36mSimpleIntensifier.get_next_run\u001b[0;34m(self, challengers, incumbent, chooser, run_history, repeat_configs, num_workers)\u001b[0m\n\u001b[1;32m    139\u001b[0m \u001b[38;5;124;03m\"\"\"\u001b[39;00m\n\u001b[1;32m    140\u001b[0m \u001b[38;5;124;03mSelects which challenger to be used. As in a traditional BO loop,\u001b[39;00m\n\u001b[1;32m    141\u001b[0m \u001b[38;5;124;03mwe sample from the EPM, which is the next configuration based on\u001b[39;00m\n\u001b[0;32m   (...)\u001b[0m\n\u001b[1;32m    166\u001b[0m \u001b[38;5;124;03m    evaluate a configuration\u001b[39;00m\n\u001b[1;32m    167\u001b[0m \u001b[38;5;124;03m \"\"\"\u001b[39;00m\n\u001b[1;32m    168\u001b[0m \u001b[38;5;66;03m# We always sample from the configs provided or the EPM\u001b[39;00m\n\u001b[0;32m--> 169\u001b[0m challenger \u001b[38;5;241m=\u001b[39m \u001b[38;5;28;43mself\u001b[39;49m\u001b[38;5;241;43m.\u001b[39;49m\u001b[43m_next_challenger\u001b[49m\u001b[43m(\u001b[49m\u001b[43mchallengers\u001b[49m\u001b[38;5;241;43m=\u001b[39;49m\u001b[43mchallengers\u001b[49m\u001b[43m,\u001b[49m\n\u001b[1;32m    170\u001b[0m \u001b[43m                                   \u001b[49m\u001b[43mchooser\u001b[49m\u001b[38;5;241;43m=\u001b[39;49m\u001b[43mchooser\u001b[49m\u001b[43m,\u001b[49m\n\u001b[1;32m    171\u001b[0m \u001b[43m                                   \u001b[49m\u001b[43mrun_history\u001b[49m\u001b[38;5;241;43m=\u001b[39;49m\u001b[43mrun_history\u001b[49m\u001b[43m,\u001b[49m\n\u001b[1;32m    172\u001b[0m \u001b[43m                                   \u001b[49m\u001b[43mrepeat_configs\u001b[49m\u001b[38;5;241;43m=\u001b[39;49m\u001b[43mrepeat_configs\u001b[49m\u001b[43m)\u001b[49m\n\u001b[1;32m    174\u001b[0m \u001b[38;5;66;03m# Run tracker is a dictionary whose values indicate if a run has been\u001b[39;00m\n\u001b[1;32m    175\u001b[0m \u001b[38;5;66;03m# processed. If a value in this dict is false, it means that a worker\u001b[39;00m\n\u001b[1;32m    176\u001b[0m \u001b[38;5;66;03m# should still be processing this configuration.\u001b[39;00m\n\u001b[1;32m    177\u001b[0m total_active_runs \u001b[38;5;241m=\u001b[39m \u001b[38;5;28mlen\u001b[39m([v \u001b[38;5;28;01mfor\u001b[39;00m v \u001b[38;5;129;01min\u001b[39;00m \u001b[38;5;28mself\u001b[39m\u001b[38;5;241m.\u001b[39mrun_tracker\u001b[38;5;241m.\u001b[39mvalues() \u001b[38;5;28;01mif\u001b[39;00m \u001b[38;5;129;01mnot\u001b[39;00m v])\n",
      "File \u001b[0;32m~/.local/lib/python3.8/site-packages/smac/intensification/abstract_racer.py:260\u001b[0m, in \u001b[0;36mAbstractRacer._next_challenger\u001b[0;34m(self, challengers, chooser, run_history, repeat_configs)\u001b[0m\n\u001b[1;32m    258\u001b[0m \u001b[38;5;66;03m# select challenger from the generators\u001b[39;00m\n\u001b[1;32m    259\u001b[0m \u001b[38;5;28;01massert\u001b[39;00m chall_gen \u001b[38;5;129;01mis\u001b[39;00m \u001b[38;5;129;01mnot\u001b[39;00m \u001b[38;5;28;01mNone\u001b[39;00m\n\u001b[0;32m--> 260\u001b[0m \u001b[38;5;28;01mfor\u001b[39;00m challenger \u001b[38;5;129;01min\u001b[39;00m chall_gen:\n\u001b[1;32m    261\u001b[0m     \u001b[38;5;66;03m# repetitions allowed\u001b[39;00m\n\u001b[1;32m    262\u001b[0m     \u001b[38;5;28;01mif\u001b[39;00m repeat_configs:\n\u001b[1;32m    263\u001b[0m         \u001b[38;5;28;01mreturn\u001b[39;00m challenger\n",
      "File \u001b[0;32m~/.local/lib/python3.8/site-packages/smac/optimizer/ei_optimization.py:723\u001b[0m, in \u001b[0;36mChallengerList.__next__\u001b[0;34m(self)\u001b[0m\n\u001b[1;32m    721\u001b[0m \u001b[38;5;28;01melse\u001b[39;00m:\n\u001b[1;32m    722\u001b[0m     \u001b[38;5;28;01mif\u001b[39;00m \u001b[38;5;28mself\u001b[39m\u001b[38;5;241m.\u001b[39mchallengers \u001b[38;5;129;01mis\u001b[39;00m \u001b[38;5;28;01mNone\u001b[39;00m:\n\u001b[0;32m--> 723\u001b[0m         \u001b[38;5;28mself\u001b[39m\u001b[38;5;241m.\u001b[39mchallengers \u001b[38;5;241m=\u001b[39m \u001b[38;5;28;43mself\u001b[39;49m\u001b[38;5;241;43m.\u001b[39;49m\u001b[43mchallengers_callback\u001b[49m\u001b[43m(\u001b[49m\u001b[43m)\u001b[49m\n\u001b[1;32m    724\u001b[0m     config \u001b[38;5;241m=\u001b[39m \u001b[38;5;28mself\u001b[39m\u001b[38;5;241m.\u001b[39mchallengers[\u001b[38;5;28mself\u001b[39m\u001b[38;5;241m.\u001b[39m_index]\n\u001b[1;32m    725\u001b[0m     \u001b[38;5;28mself\u001b[39m\u001b[38;5;241m.\u001b[39m_index \u001b[38;5;241m+\u001b[39m\u001b[38;5;241m=\u001b[39m \u001b[38;5;241m1\u001b[39m\n",
      "File \u001b[0;32m~/.local/lib/python3.8/site-packages/smac/optimizer/ei_optimization.py:92\u001b[0m, in \u001b[0;36mAcquisitionFunctionMaximizer.maximize.<locals>.next_configs_by_acq_value\u001b[0;34m()\u001b[0m\n\u001b[1;32m     91\u001b[0m \u001b[38;5;28;01mdef\u001b[39;00m \u001b[38;5;21mnext_configs_by_acq_value\u001b[39m() \u001b[38;5;241m-\u001b[39m\u001b[38;5;241m>\u001b[39m List[Configuration]:\n\u001b[0;32m---> 92\u001b[0m     \u001b[38;5;28;01mreturn\u001b[39;00m [t[\u001b[38;5;241m1\u001b[39m] \u001b[38;5;28;01mfor\u001b[39;00m t \u001b[38;5;129;01min\u001b[39;00m \u001b[38;5;28;43mself\u001b[39;49m\u001b[38;5;241;43m.\u001b[39;49m\u001b[43m_maximize\u001b[49m\u001b[43m(\u001b[49m\u001b[43mrunhistory\u001b[49m\u001b[43m,\u001b[49m\u001b[43m \u001b[49m\u001b[43mstats\u001b[49m\u001b[43m,\u001b[49m\u001b[43m \u001b[49m\u001b[43mnum_points\u001b[49m\u001b[43m)\u001b[49m]\n",
      "File \u001b[0;32m~/.local/lib/python3.8/site-packages/smac/optimizer/ei_optimization.py:656\u001b[0m, in \u001b[0;36mLocalAndSortedRandomSearch._maximize\u001b[0;34m(self, runhistory, stats, num_points)\u001b[0m\n\u001b[1;32m    641\u001b[0m \u001b[38;5;28;01mdef\u001b[39;00m \u001b[38;5;21m_maximize\u001b[39m(\n\u001b[1;32m    642\u001b[0m     \u001b[38;5;28mself\u001b[39m,\n\u001b[1;32m    643\u001b[0m     runhistory: RunHistory,\n\u001b[0;32m   (...)\u001b[0m\n\u001b[1;32m    647\u001b[0m \n\u001b[1;32m    648\u001b[0m     \u001b[38;5;66;03m# Get configurations sorted by EI\u001b[39;00m\n\u001b[1;32m    649\u001b[0m     next_configs_by_random_search_sorted \u001b[38;5;241m=\u001b[39m \u001b[38;5;28mself\u001b[39m\u001b[38;5;241m.\u001b[39mrandom_search\u001b[38;5;241m.\u001b[39m_maximize(\n\u001b[1;32m    650\u001b[0m         runhistory,\n\u001b[1;32m    651\u001b[0m         stats,\n\u001b[1;32m    652\u001b[0m         num_points,\n\u001b[1;32m    653\u001b[0m         _sorted\u001b[38;5;241m=\u001b[39m\u001b[38;5;28;01mTrue\u001b[39;00m,\n\u001b[1;32m    654\u001b[0m     )\n\u001b[0;32m--> 656\u001b[0m     next_configs_by_local_search \u001b[38;5;241m=\u001b[39m \u001b[38;5;28;43mself\u001b[39;49m\u001b[38;5;241;43m.\u001b[39;49m\u001b[43mlocal_search\u001b[49m\u001b[38;5;241;43m.\u001b[39;49m\u001b[43m_maximize\u001b[49m\u001b[43m(\u001b[49m\n\u001b[1;32m    657\u001b[0m \u001b[43m        \u001b[49m\u001b[43mrunhistory\u001b[49m\u001b[43m,\u001b[49m\u001b[43m \u001b[49m\u001b[43mstats\u001b[49m\u001b[43m,\u001b[49m\u001b[43m \u001b[49m\u001b[38;5;28;43mself\u001b[39;49m\u001b[38;5;241;43m.\u001b[39;49m\u001b[43mn_sls_iterations\u001b[49m\u001b[43m,\u001b[49m\u001b[43m \u001b[49m\u001b[43madditional_start_points\u001b[49m\u001b[38;5;241;43m=\u001b[39;49m\u001b[43mnext_configs_by_random_search_sorted\u001b[49m\u001b[43m,\u001b[49m\n\u001b[1;32m    658\u001b[0m \u001b[43m    \u001b[49m\u001b[43m)\u001b[49m\n\u001b[1;32m    660\u001b[0m     \u001b[38;5;66;03m# Having the configurations from random search, sorted by their\u001b[39;00m\n\u001b[1;32m    661\u001b[0m     \u001b[38;5;66;03m# acquisition function value is important for the first few iterations\u001b[39;00m\n\u001b[1;32m    662\u001b[0m     \u001b[38;5;66;03m# of SMAC. As long as the random forest predicts constant value, we\u001b[39;00m\n\u001b[1;32m    663\u001b[0m     \u001b[38;5;66;03m# want to use only random configurations. Having them at the begging of\u001b[39;00m\n\u001b[1;32m    664\u001b[0m     \u001b[38;5;66;03m# the list ensures this (even after adding the configurations by local\u001b[39;00m\n\u001b[1;32m    665\u001b[0m     \u001b[38;5;66;03m# search, and then sorting them)\u001b[39;00m\n\u001b[1;32m    666\u001b[0m     next_configs_by_acq_value \u001b[38;5;241m=\u001b[39m (\n\u001b[1;32m    667\u001b[0m         next_configs_by_random_search_sorted \u001b[38;5;241m+\u001b[39m next_configs_by_local_search\n\u001b[1;32m    668\u001b[0m     )\n",
      "File \u001b[0;32m~/.local/lib/python3.8/site-packages/smac/optimizer/ei_optimization.py:233\u001b[0m, in \u001b[0;36mLocalSearch._maximize\u001b[0;34m(self, runhistory, stats, num_points, additional_start_points)\u001b[0m\n\u001b[1;32m    212\u001b[0m \u001b[38;5;124;03m\"\"\"Starts a local search from the given startpoint and quits\u001b[39;00m\n\u001b[1;32m    213\u001b[0m \u001b[38;5;124;03mif either the max number of steps is reached or no neighbor\u001b[39;00m\n\u001b[1;32m    214\u001b[0m \u001b[38;5;124;03mwith an higher improvement was found.\u001b[39;00m\n\u001b[0;32m   (...)\u001b[0m\n\u001b[1;32m    229\u001b[0m \u001b[38;5;124;03mList\u001b[39;00m\n\u001b[1;32m    230\u001b[0m \u001b[38;5;124;03m\"\"\"\u001b[39;00m\n\u001b[1;32m    232\u001b[0m init_points \u001b[38;5;241m=\u001b[39m \u001b[38;5;28mself\u001b[39m\u001b[38;5;241m.\u001b[39m_get_initial_points(num_points, runhistory, additional_start_points)\n\u001b[0;32m--> 233\u001b[0m configs_acq \u001b[38;5;241m=\u001b[39m \u001b[38;5;28;43mself\u001b[39;49m\u001b[38;5;241;43m.\u001b[39;49m\u001b[43m_do_search\u001b[49m\u001b[43m(\u001b[49m\u001b[43minit_points\u001b[49m\u001b[43m)\u001b[49m\n\u001b[1;32m    235\u001b[0m \u001b[38;5;66;03m# shuffle for random tie-break\u001b[39;00m\n\u001b[1;32m    236\u001b[0m \u001b[38;5;28mself\u001b[39m\u001b[38;5;241m.\u001b[39mrng\u001b[38;5;241m.\u001b[39mshuffle(configs_acq)\n",
      "File \u001b[0;32m~/.local/lib/python3.8/site-packages/smac/optimizer/ei_optimization.py:367\u001b[0m, in \u001b[0;36mLocalSearch._do_search\u001b[0;34m(self, start_points)\u001b[0m\n\u001b[1;32m    365\u001b[0m \u001b[38;5;28;01mfor\u001b[39;00m j \u001b[38;5;129;01min\u001b[39;00m \u001b[38;5;28mrange\u001b[39m(obtain_n[i]):\n\u001b[1;32m    366\u001b[0m     \u001b[38;5;28;01mtry\u001b[39;00m:\n\u001b[0;32m--> 367\u001b[0m         n \u001b[38;5;241m=\u001b[39m \u001b[38;5;28;43mnext\u001b[39;49m\u001b[43m(\u001b[49m\u001b[43mneighborhood_iterator\u001b[49m\u001b[43m)\u001b[49m\n\u001b[1;32m    368\u001b[0m         neighbors_generated[i] \u001b[38;5;241m+\u001b[39m\u001b[38;5;241m=\u001b[39m \u001b[38;5;241m1\u001b[39m\n\u001b[1;32m    369\u001b[0m         neighbors_for_i\u001b[38;5;241m.\u001b[39mappend(n)\n",
      "File \u001b[0;32mConfigSpace/util.pyx:221\u001b[0m, in \u001b[0;36mget_one_exchange_neighbourhood\u001b[0;34m()\u001b[0m\n",
      "File \u001b[0;32mConfigSpace/configuration_space.pyx:1172\u001b[0m, in \u001b[0;36mConfigSpace.configuration_space.ConfigurationSpace._check_forbidden\u001b[0;34m()\u001b[0m\n",
      "File \u001b[0;32mConfigSpace/c_util.pyx:28\u001b[0m, in \u001b[0;36mConfigSpace.c_util.check_forbidden\u001b[0;34m()\u001b[0m\n",
      "File \u001b[0;32mConfigSpace/c_util.pyx:35\u001b[0m, in \u001b[0;36mConfigSpace.c_util.check_forbidden\u001b[0;34m()\u001b[0m\n",
      "\u001b[0;31mKeyboardInterrupt\u001b[0m: "
     ]
    }
   ],
   "source": [
    "automl = autosklearn.classification.AutoSklearnClassifier(time_left_for_this_task=10800)\n",
    "automl.fit(X_train, y_train, dataset_name='Pet_Adoption')"
   ]
  },
  {
   "cell_type": "code",
   "execution_count": 35,
   "id": "d8efed05",
   "metadata": {},
   "outputs": [
    {
     "name": "stdout",
     "output_type": "stream",
     "text": [
      "          rank  ensemble_weight               type      cost   duration\n",
      "model_id                                                               \n",
      "14           1             0.06  gradient_boosting  0.242494   5.265580\n",
      "23           2             0.08      random_forest  0.243360  10.399538\n",
      "64           3             0.04  gradient_boosting  0.249423   7.954515\n",
      "63           4             0.02      random_forest  0.250000   7.761124\n",
      "21           5             0.26           adaboost  0.250289   7.415205\n",
      "20           6             0.14           adaboost  0.251732   4.673626\n",
      "16           7             0.08      random_forest  0.254619   9.531533\n",
      "70           8             0.02        extra_trees  0.272229  23.811462\n",
      "33           9             0.12           adaboost  0.275982   1.891099\n",
      "28          10             0.04                sgd  0.279157   2.546134\n",
      "25          11             0.04      random_forest  0.279734   6.070147\n",
      "31          12             0.04      random_forest  0.282044   8.190487\n",
      "52          13             0.04        gaussian_nb  0.296478   0.954572\n",
      "48          14             0.02      random_forest  0.301097   4.205751\n"
     ]
    }
   ],
   "source": [
    "print(automl.leaderboard())"
   ]
  },
  {
   "cell_type": "code",
   "execution_count": 36,
   "id": "825375b7",
   "metadata": {},
   "outputs": [
    {
     "name": "stdout",
     "output_type": "stream",
     "text": [
      "Accuracy score: 0.7607825700311249\n"
     ]
    }
   ],
   "source": [
    "print(\"Accuracy score:\", sklearn.metrics.accuracy_score(y_test, automl.predict(X_test)))"
   ]
  },
  {
   "cell_type": "markdown",
   "id": "aaf8e989",
   "metadata": {},
   "source": [
    "# Experimenting Code"
   ]
  },
  {
   "cell_type": "markdown",
   "id": "d3d7009f",
   "metadata": {},
   "source": [
    "### Data Balancing (using unbalanced data has better performance)"
   ]
  },
  {
   "cell_type": "code",
   "execution_count": 13,
   "id": "df608541",
   "metadata": {},
   "outputs": [
    {
     "name": "stdout",
     "output_type": "stream",
     "text": [
      "Training target statistics: Counter({1: 7505, 0: 2990})\n",
      "Testing target statistics: Counter({1: 3291, 0: 1207})\n"
     ]
    }
   ],
   "source": [
    "from collections import Counter\n",
    "\n",
    "### Separate training and testing dataset\n",
    "X = train_df.drop(['Adopted'], axis=1)\n",
    "y = train_df['Adopted']\n",
    "\n",
    "X_train, X_test, y_train, y_test = train_test_split(X, y, test_size=0.3)\n",
    "\n",
    "print(f\"Training target statistics: {Counter(y_train)}\")\n",
    "print(f\"Testing target statistics: {Counter(y_test)}\")"
   ]
  },
  {
   "cell_type": "code",
   "execution_count": 14,
   "id": "e6fda526",
   "metadata": {},
   "outputs": [
    {
     "name": "stdout",
     "output_type": "stream",
     "text": [
      "Training target statistics: Counter({0: 7505, 1: 7505})\n",
      "Testing target statistics: Counter({1: 3291, 0: 1207})\n"
     ]
    }
   ],
   "source": [
    "### oversample the data\n",
    "from imblearn.over_sampling import SMOTE\n",
    "\n",
    "over_sampler = SMOTE(k_neighbors=2)\n",
    "X_train, y_train = over_sampler.fit_resample(X_train, y_train)\n",
    "\n",
    "print(f\"Training target statistics: {Counter(y_train)}\")\n",
    "print(f\"Testing target statistics: {Counter(y_test)}\")"
   ]
  },
  {
   "cell_type": "markdown",
   "id": "2bcef708",
   "metadata": {},
   "source": [
    "### Explore pets without name"
   ]
  },
  {
   "cell_type": "code",
   "execution_count": null,
   "id": "6955514e",
   "metadata": {},
   "outputs": [],
   "source": [
    "# train_copy['NoName'] = train_copy['NoName'].apply(lambda x: 'No Name' if x == 1 else 'Otherwise')\n",
    "Nn_df = train_copy.loc[train_copy['NoName'] == True]\n",
    "\n",
    "Nn_count = len(Nn_df)\n",
    "Nn_data = [Nn_count, len(train_copy) - Nn_count]\n",
    "\n",
    "plt.pie(x=Nn_data, labels=['No Name', 'Otherwise'], autopct=autopct_format(Nn_data))\n",
    "plt.title('No name percentage');"
   ]
  },
  {
   "cell_type": "code",
   "execution_count": null,
   "id": "41dcc28c",
   "metadata": {},
   "outputs": [],
   "source": [
    "Nn_adoption_count = len(Nn_df.loc[Nn_df['Adopted'] == 'Adopted'])\n",
    "Nn_data = [Nn_adoption_count, len(Nn_df) - Nn_adoption_count]\n",
    "\n",
    "plt.pie(x=Nn_data, labels=['Adopted', 'Not Adopted'], autopct=autopct_format(Nn_data))\n",
    "plt.title('No name adoption percentage');"
   ]
  }
 ],
 "metadata": {
  "kernelspec": {
   "display_name": "Python 3 (ipykernel)",
   "language": "python",
   "name": "python3"
  },
  "language_info": {
   "codemirror_mode": {
    "name": "ipython",
    "version": 3
   },
   "file_extension": ".py",
   "mimetype": "text/x-python",
   "name": "python",
   "nbconvert_exporter": "python",
   "pygments_lexer": "ipython3",
   "version": "3.8.10"
  }
 },
 "nbformat": 4,
 "nbformat_minor": 5
}
